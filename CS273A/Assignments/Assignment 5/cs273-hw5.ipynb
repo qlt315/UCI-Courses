{
 "cells": [
  {
   "cell_type": "markdown",
   "id": "e997c3eb",
   "metadata": {
    "id": "8a02943d"
   },
   "source": [
    "# CS273A Homework 5\n",
    "\n",
    "## Due: Wednesday Nov 20 2024 (11:59pm)"
   ]
  },
  {
   "cell_type": "markdown",
   "id": "b7b1e632",
   "metadata": {
    "id": "09c60894"
   },
   "source": [
    "---\n",
    "## Instructions\n",
    "\n",
    "\n",
    "This homework (and subsequent ones) will involve data analysis and reporting on methods and results\n",
    "using Python code. You will submit a **single PDF file** that contains everything to Gradescope. This includes any text you wish to include to describe your results, the complete code snippets of how you attempted each problem, any figures that were generated, and scans of any work on paper that you wish to include. It is important that you include enough detail that we know how you solved the problem, since otherwise we will be unable to grade it.\n",
    "\n",
    "Your homeworks will be given to you as Jupyter notebooks containing the problem descriptions and some template code that will help you get started. You are encouraged to use these starter Jupyter notebooks to complete your assignment and to write your report. This will help you not only ensure that all of the code for the solutions is included, but also will provide an easy way to export your results to a PDF file (for example, doing *print preview* and *printing to pdf*). I recommend liberal use of Markdown cells to create headers for each problem and sub-problem, explaining your implementation/answers, and including any mathematical equations. For parts of the homework you do on paper, scan it in such that it is legible (there are a number of free Android/iOS scanning apps, if you do not have access to a scanner), and include it as an image in the Jupyter notebook.\n",
    "\n",
    "**Double check that all of your answers are legible on Gradescope, e.g. make sure any text you have written does not get cut off.**\n",
    "\n",
    "If you have any questions/concerns about using Jupyter notebooks, ask us on EdD. If you decide not to use Jupyter notebooks, but go with Microsoft Word or LaTeX to create your PDF file, make sure that all of the answers can be generated from the code snippets included in the document.\n",
    "### Summary of Assignment: 100 total points\n",
    "- Problem 1:  Decision Trees by Hand (25 points)\n",
    "    - Problem 1.1:  Shannon Entropy (5 points)\n",
    "    - Problem 1.2:  Information Gain (10 points)\n",
    "    - Problem 1.3:  Full Tree (10 points)\n",
    "- Problem 2: Decision Trees in Python (34 points)\n",
    "    - Problem 2.1: Feature Statistics (8 points)\n",
    "    - Problem 2.2: Initial Tree (6 points)\n",
    "    - Problem 2.3: Exploring Depth Control (10 points)\n",
    "    - Problem 2.4: Exploring Leaf Size (10 points)\n",
    "- Problem 3: Random Forests (20 points)\n",
    "    - Problem 3.1: Training Members (10 points)\n",
    "    - Problem 3.2: Ensemble Prediction (10 points)\n",
    "- Problem 4: VC Dimension (16 points)\n",
    "    - Problem 4.1: Model A (4 points)\n",
    "    - Problem 4.2: Model B (4 points)\n",
    "    - Problem 4.3: Model C (4 points)\n",
    "    - Problem 4.4: Model D (4 points)\n",
    "- Statement of Collaboration (5 points)"
   ]
  },
  {
   "cell_type": "markdown",
   "id": "d4b532cb",
   "metadata": {
    "id": "7b721e2a"
   },
   "source": [
    "Before we get started, let's import some libraries that you will make use of in this assignment. Make sure that you run the code cell below in order to import these libraries.\n",
    "\n",
    "**Important: In the code block below, we set `seed=1234`. This is to ensure your code has reproducible results and is important for grading. Do not change this. If you are not using the provided Jupyter notebook, make sure to also set the random seed as below.**\n",
    "\n",
    "**Important: Do not change any codes we give you below, except for those waiting for you to complete. This is to ensure your code has reproducible results and is important for grading.**"
   ]
  },
  {
   "cell_type": "code",
   "execution_count": 48,
   "id": "46e92f97",
   "metadata": {
    "executionInfo": {
     "elapsed": 445,
     "status": "ok",
     "timestamp": 1700601893926,
     "user": {
      "displayName": "Samuel Showalter",
      "userId": "14379346311603786226"
     },
     "user_tz": 480
    },
    "id": "1e3be6e5"
   },
   "outputs": [],
   "source": [
    "import numpy as np\n",
    "import matplotlib.pyplot as plt\n",
    "\n",
    "import requests                                      # reading data\n",
    "from io import StringIO\n",
    "\n",
    "from sklearn.datasets import fetch_openml            # common data set access\n",
    "from sklearn.preprocessing import StandardScaler     # scaling transform\n",
    "from sklearn.model_selection import train_test_split # validation tools\n",
    "from sklearn.metrics import zero_one_loss as J01\n",
    "\n",
    "import sklearn.tree as tree\n",
    "\n",
    "# Fix the random seed for reproducibility\n",
    "# !! Important !! : do not change this\n",
    "seed = 1234\n",
    "np.random.seed(seed)"
   ]
  },
  {
   "cell_type": "markdown",
   "id": "d255466e",
   "metadata": {
    "id": "dc194425"
   },
   "source": [
    "---\n",
    "## Problem 1: Decision Trees for Spam"
   ]
  },
  {
   "cell_type": "markdown",
   "id": "33622fa3",
   "metadata": {
    "id": "08db9a1a"
   },
   "source": [
    "In order to reduce my email load, I decide to implement a machine learning algorithm to decide whether or not I should read an email, or simply file it away instead.  To train my model, I obtain the following data set of binary-valued features about each email, including whether I know the author or not, whether the email is long or short, and whether it has any of several key words, along with my final decision about whether to read it ($y=+1$ for \"read\", $y=-1$ for \"discard\").\n",
    "\n",
    "| X1 | X2 | X3 | X4 | X5 | y |\n",
    "|----|----|----|----|----|----|\n",
    "| (know author?) | (is long?)| (has 'research'?) | (has 'grade'?) | (has 'lottery'?) | (read?) |\n",
    "| 0  | 0  | 1  | 1  | 0  | -1 |\n",
    "| 1  | 1  | 0  | 1  | 0  | -1 |\n",
    "| 0  | 1  | 1  | 1  | 1  | -1 |\n",
    "| 1  | 1  | 1  | 1  | 0  | -1 |\n",
    "| 0  | 1  | 0  | 0  | 0  | -1 |\n",
    "| 1  | 0  | 1  | 1  | 1  |  1 |\n",
    "| 0  | 0  | 1  | 0  | 0  |  1 |\n",
    "| 1  | 0  | 0  | 0  | 0  |  1 |\n",
    "| 1  | 0  | 1  | 1  | 0  |  1 |\n",
    "| 1  | 1  | 1  | 1  | 1  | -1 |\n",
    "\n",
    "In the case of any ties where both classes have equal probability, we will prefer to predict class $+1$."
   ]
  },
  {
   "cell_type": "markdown",
   "id": "53274a54",
   "metadata": {
    "id": "63733bef"
   },
   "source": [
    "Solve the following problems \"by hand\" (you can use python for logarithms, etc.)"
   ]
  },
  {
   "cell_type": "markdown",
   "id": "d7e0b859",
   "metadata": {
    "id": "4cfbce3f"
   },
   "source": [
    "### Problem 1.1   (5 points)\n",
    "\n",
    "**Calculate the Shannon entropy** $H(y)$ of the binary class variable $y$, in bits.  **Hint:** Your answer should be a number between 0 and 1."
   ]
  },
  {
   "cell_type": "markdown",
   "id": "d98f6d16-7e7b-4438-952a-44b89af92966",
   "metadata": {
    "executionInfo": {
     "elapsed": 1,
     "status": "ok",
     "timestamp": 1700601894221,
     "user": {
      "displayName": "Samuel Showalter",
      "userId": "14379346311603786226"
     },
     "user_tz": 480
    },
    "id": "1f4e32ba"
   },
   "source": [
    "<font color=blue>To calculate the Shannon entropy $ H(y) $ of the binary class variable $ y $, we use the formula:\n",
    "\n",
    "<font color=blue>$$\n",
    "H(y) = -\\sum_{i} P(y = i) \\log_2 P(y = i)\n",
    "$$\n",
    "\n",
    "<font color=blue>where $ P(y = +1) $ and $ P(y = -1) $ are the probabilities of the classes $ y = +1 $ (read) and $ y = -1 $ (discard), respectively.\n",
    "\n",
    "<font color=blue>Thus,\n",
    "\n",
    "<font color=blue>$$\n",
    "P(y = +1) = \\frac{4}{10} = 0.4\n",
    "$$\n",
    "<font color=blue>$$\n",
    "P(y = -1) = \\frac{6}{10} = 0.6\n",
    "$$\n",
    "\n",
    "<font color=blue>Then we have:\n",
    "\n",
    "<font color=blue>$$\n",
    "H(y) = -\\left( P(y = +1) \\log_2 P(y = +1) + P(y = -1) \\log_2 P(y = -1) \\right)\n",
    "$$\n",
    "<font color=blue>$$\n",
    "H(y) = -\\left( 0.4 \\log_2 0.4 + 0.6 \\log_2 0.6 \\right) = 0.971\n",
    "$$\n",
    "\n",
    "<font color=blue>We can use the following Python code to calculate the exact number."
   ]
  },
  {
   "cell_type": "code",
   "execution_count": 11,
   "id": "0adb68a3-4d9a-4ef6-812e-bc1fc3ca0ec8",
   "metadata": {},
   "outputs": [
    {
     "data": {
      "text/plain": [
       "0.9709505944546686"
      ]
     },
     "execution_count": 11,
     "metadata": {},
     "output_type": "execute_result"
    }
   ],
   "source": [
    "import math\n",
    "\n",
    "# Probabilities\n",
    "p_y_positive = 4 / 10\n",
    "p_y_negative = 6 / 10\n",
    "\n",
    "# Shannon entropy calculation\n",
    "entropy_y = - (p_y_positive * math.log2(p_y_positive) + p_y_negative * math.log2(p_y_negative))\n",
    "entropy_y\n"
   ]
  },
  {
   "cell_type": "markdown",
   "id": "add19401",
   "metadata": {
    "id": "fd05e2ac"
   },
   "source": [
    "### Problem 1.2  (5 points)\n",
    "\n",
    "**Calculate the information gain** for each feature $x_i$.  Which feature should be split first?"
   ]
  },
  {
   "cell_type": "markdown",
   "id": "3cff5b84-20a4-40ac-85ca-f573ed929142",
   "metadata": {
    "executionInfo": {
     "elapsed": 4,
     "status": "ok",
     "timestamp": 1700601894839,
     "user": {
      "displayName": "Samuel Showalter",
      "userId": "14379346311603786226"
     },
     "user_tz": 480
    },
    "id": "031defba"
   },
   "source": [
    "<font color=blue>To calculate the information gain $ IG(X_i)$ for each feature $X_i$, we use the formula:\n",
    "\n",
    "<font color=blue>$$\n",
    "IG(X_i) = H(y) - H(y | X_i)\n",
    "$$\n",
    "\n",
    "<font color=blue>where $ H(y) $ is the entropy of $ y $ (calculated previously as approximately 0.971 bits). $ H(y | X_i) $ is the conditional entropy of $ y $ given $ X_i $, defined as:\n",
    "\n",
    "<font color=blue>$$\n",
    "H(y | X_i) = P(X_i = 0) H(y | X_i = 0) + P(X_i = 1) H(y | X_i = 1)\n",
    "$$\n",
    "\n",
    "<font color=blue>For Feature $X_1$, we have \n",
    "\n",
    "<font color=blue>$$\n",
    "P(X_1 = 0) = \\frac{4}{10} = 0.4 \n",
    "$$\n",
    "\n",
    "<font color=blue>$$P(X_1 = 1) = \\frac{6}{10} = 0.6 $$\n",
    "\n",
    "<font color=blue>Since\n",
    "\n",
    "<font color=blue>$$\n",
    "H(y | X_1 = 0) = - \\sum P(y | X_1 = 0) \\cdot \\log_2(P(y | X_1 = 0))\n",
    "$$\n",
    "\n",
    "<font color=blue>Thus we have:\n",
    "\n",
    "<font color=blue>$$\n",
    "   H(y | X_1 = 0) = - \\left( P(y = +1 | X_1 = 0) \\cdot \\log_2(P(y = +1 | X_1 = 0)) + P(y = -1 | X_1 = 0) \\cdot \\log_2(P(y = -1 | X_1 = 0)) \\right)\n",
    "$$\n",
    "\n",
    "<font color=blue>$$\n",
    "   H(y | X_1 = 0) = - \\left( \\frac{1}{4} \\cdot \\log_2(\\frac{1}{4}) + \\frac{3}{4} \\cdot \\log_2(\\frac{3}{4}) \\right) = 0.8115\n",
    "$$\n",
    "\n",
    "<font color=blue>We can also calculate $H(y | X_1 = 1)$ in the same way:\n",
    "\n",
    "\n",
    "<font color=blue>$$\n",
    "   H(y | X_1 = 1) = - \\left( 0.5 \\cdot \\log_2(0.5) + 0.5 \\cdot \\log_2(0.5) \\right) = 1\n",
    "$$\n",
    "\n",
    "<font color=blue>Then we can obtain \n",
    "<font color=blue>$$\n",
    "     H(y | X_1) = 0.4 \\times 0.8115 + 0.6 \\times 1 = 0.9246\n",
    "$$\n",
    "\n",
    "<font color=blue>$$\n",
    "     IG(X_1) = 0.971 - 0.9246 = 0.0464\n",
    "$$\n",
    "<font color=blue>Similarly, The information gain of other features are $IG(X_2) = 0.61$, $IG(X_3) = 0.0058$，$IG(X_4) = 0.0913$ and $IG(X_5) = 0.0058$. The feature with the highest information gain is $ X_2 $ (is the email long?), so we should split on $ X_2 $ first."
   ]
  },
  {
   "cell_type": "markdown",
   "id": "13b9a8a1",
   "metadata": {
    "id": "fd292650"
   },
   "source": [
    "### Problem 1.3  (5 points)\n",
    "\n",
    "**Draw** (or otherwise illustrate) **the complete decision tree** that will be learned from these data."
   ]
  },
  {
   "cell_type": "markdown",
   "id": "831c83ef-f1c7-4c89-a0ab-f813c95ee063",
   "metadata": {
    "executionInfo": {
     "elapsed": 3,
     "status": "ok",
     "timestamp": 1700601895485,
     "user": {
      "displayName": "Samuel Showalter",
      "userId": "14379346311603786226"
     },
     "user_tz": 480
    },
    "id": "ccb85fde"
   },
   "source": [
    "Based on the information gain calculations, we first split on feature $ X_2 $, and then continue splitting on features $ X_5 $ and $ X_4 $. The resulting decision tree is as follows:\n",
    "\n",
    "                      [X2]=1?\n",
    "                      /     \\\n",
    "                  [X2]=0    [X2]=1\n",
    "                    /           \\\n",
    "               [X4]=1?         y=-1\n",
    "                /  \\                \n",
    "            [X4]=0 [X4]=1               \n",
    "             /        \\\n",
    "            y=1       [X1]=1?\n",
    "                      /  \\\n",
    "                 [X1]=0  [X1]=1\n",
    "                   /        \\\n",
    "                 y=-1       y=1\n",
    "\n",
    "                 \n",
    "- <font color=blue>**Root Node**: The tree first splits on $ X_2 $ because it has the highest information gain (0.61).\n",
    "  - <font color=blue>If $ X_2 = 1 $, , the prediction is $ y = -1 $.\n",
    "  - <font color=blue>If $ X_2 = 0 $, the tree splits on $ X_4 $.\n",
    "    - <font color=blue>If $ X_4 = 0 $, the prediction is $ y = 1 $.\n",
    "    - <font color=blue>If $ X_4 = 1 $, the tree splits on $ X_1 $.\n",
    "        - <font color=blue>If $ X_1 = 0 $, the prediction is $ y = -1 $.\n",
    "        - <font color=blue>If $ X_1 = 1 $, the prediction is $ y = 1 $.\n",
    "\n"
   ]
  },
  {
   "cell_type": "markdown",
   "id": "f0ef25f6",
   "metadata": {
    "id": "8d8abe82"
   },
   "source": [
    "<div>\n",
    "    <img src=\"data:image/svg+xml,%3C%3Fxml%20version%3D%221.0%22%20encoding%3D%22UTF-8%22%20standalone%3D%22no%22%3F%3E%0A%3C%21DOCTYPE%20svg%20PUBLIC%20%22-//W3C//DTD%20SVG%201.1//EN%22%20%22http%3A//www.w3.org/Graphics/SVG/1.1/DTD/svg11.dtd%22%3E%0A%3Csvg%20stroke-miterlimit%3D%2210%22%20style%3D%22fill-rule%3Anonzero%3Bclip-rule%3Aevenodd%3Bstroke-linecap%3Around%3Bstroke-linejoin%3Around%3B%22%20version%3D%221.1%22%20viewBox%3D%220%200%20288%2072%22%20xml%3Aspace%3D%22preserve%22%20xmlns%3D%22http%3A//www.w3.org/2000/svg%22%20xmlns%3Axlink%3D%22http%3A//www.w3.org/1999/xlink%22%3E%0A%3Cdefs/%3E%0A%3Cg%20id%3D%22Layer-1%22%3E%0A%3Cpath%20d%3D%22M34.042%2035.8741C45.8469%2023.244%2031.1794%2022.6473%2024.2857%2024.1167C17.3921%2025.5861-0.960215%2033.2987%206.07817%2043.4256C13.1166%2053.5525%2023.0237%2056.9377%2052.2446%2053.4091C81.4656%2049.8804%2097.2436%2032.811%20122.962%2029.3111C148.681%2025.8112%20155.118%2039.4093%20155.118%2039.4093%22%20fill%3D%22none%22%20opacity%3D%221%22%20stroke%3D%22%23000000%22%20stroke-linecap%3D%22butt%22%20stroke-linejoin%3D%22round%22%20stroke-width%3D%223%22/%3E%0A%3Cpath%20d%3D%22M254.053%2040.6889C242.328%2053.1071%20256.999%2053.6247%20263.883%2052.1549C270.768%2050.685%20289.071%2043.0512%20281.969%2033.1691C274.868%2023.287%20264.94%2020.0179%20235.741%2023.6051C206.543%2027.1922%20190.872%2043.9744%20165.176%2047.5176C139.48%2051.0607%20132.957%2037.7776%20132.957%2037.7776%22%20fill%3D%22none%22%20opacity%3D%221%22%20stroke%3D%22%23000000%22%20stroke-linecap%3D%22butt%22%20stroke-linejoin%3D%22round%22%20stroke-width%3D%223%22/%3E%0A%3C/g%3E%0A%3C/svg%3E%0A\" width=\"200\"/>\n",
    "</div>"
   ]
  },
  {
   "cell_type": "markdown",
   "id": "3852b3d8",
   "metadata": {
    "id": "67d218cb"
   },
   "source": [
    "## Problem 2: Decision trees in Python"
   ]
  },
  {
   "cell_type": "markdown",
   "id": "5bd4ae7a",
   "metadata": {
    "id": "496c697a"
   },
   "source": [
    "In the next problem, we will use decision trees to predict a data set used for Kaggle competitions in older iterations of the course; see e.g.,\n",
    "https://www.kaggle.com/c/uc-irvine-cs273a-2016\n",
    "\n",
    "Note that I have altered the data from that competition to make the target variables +1 and -1, instead of 0/1, to better match some of the ensemble slides.\n",
    "\n",
    "First, let's load the data:"
   ]
  },
  {
   "cell_type": "code",
   "execution_count": 19,
   "id": "b1d91667",
   "metadata": {
    "colab": {
     "base_uri": "https://localhost:8080/"
    },
    "executionInfo": {
     "elapsed": 2310,
     "status": "ok",
     "timestamp": 1700602148369,
     "user": {
      "displayName": "Samuel Showalter",
      "userId": "14379346311603786226"
     },
     "user_tz": 480
    },
    "id": "923d3650",
    "outputId": "02c52dc3-8f93-4469-896b-c83a1205091b"
   },
   "outputs": [
    {
     "name": "stderr",
     "output_type": "stream",
     "text": [
      "/opt/anaconda3/lib/python3.12/site-packages/urllib3/connectionpool.py:1099: InsecureRequestWarning: Unverified HTTPS request is being made to host 'www.ics.uci.edu'. Adding certificate verification is strongly advised. See: https://urllib3.readthedocs.io/en/latest/advanced-usage.html#tls-warnings\n",
      "  warnings.warn(\n",
      "/opt/anaconda3/lib/python3.12/site-packages/urllib3/connectionpool.py:1099: InsecureRequestWarning: Unverified HTTPS request is being made to host 'ics.uci.edu'. Adding certificate verification is strongly advised. See: https://urllib3.readthedocs.io/en/latest/advanced-usage.html#tls-warnings\n",
      "  warnings.warn(\n"
     ]
    }
   ],
   "source": [
    "url = 'https://www.ics.uci.edu/~ihler/classes/cs273/data/precip_train.txt'\n",
    "\n",
    "with requests.get(url, verify=False) as link:\n",
    "  data = np.genfromtxt(StringIO(link.text),delimiter=None)\n",
    "\n",
    "X,Y = data[:,:-1], data[:,-1]"
   ]
  },
  {
   "cell_type": "markdown",
   "id": "83b31c52",
   "metadata": {
    "id": "7ac1c910"
   },
   "source": [
    "#### Problem 2.1\n",
    "Compute and print some useful statistics about the data -- the minimum, maximum, mean, and variance of each of the features."
   ]
  },
  {
   "cell_type": "code",
   "execution_count": 50,
   "id": "906b23f0",
   "metadata": {},
   "outputs": [
    {
     "name": "stdout",
     "output_type": "stream",
     "text": [
      "Minimum values for each feature: [ 197.      190.      214.97    205.42     10.        0.        0.\n",
      "    0.        1.2189    0.        0.        0.        1.0271 -999.9   ]\n",
      "Maximum values for each feature: [2.5300e+02 2.4800e+02 2.5202e+02 2.5202e+02 1.7130e+04 1.2338e+04\n",
      " 9.2380e+03 2.7419e+01 1.8107e+01 1.1368e+01 1.8771e+01 1.4745e+01\n",
      " 2.7871e+02 7.6920e+02]\n",
      "Mean values for each feature: [2.41898974e+02 2.28381307e+02 2.41905935e+02 2.33825377e+02\n",
      " 2.84904650e+03 8.62861100e+02 1.63652650e+02 3.05575493e+00\n",
      " 6.31144194e+00 1.89391480e+00 4.28955135e+00 2.79775083e+00\n",
      " 1.04525366e+01 7.65813000e+00]\n",
      "Variance for each feature: [8.11988160e+01 8.91502653e+01 3.45577443e+01 9.45072114e+01\n",
      " 1.05055883e+07 3.09041521e+06 6.98073356e+05 7.27689095e+00\n",
      " 6.18300320e+00 4.15093181e+00 3.94461529e+00 1.93234397e+00\n",
      " 1.70001843e+02 1.52894736e+03]\n"
     ]
    }
   ],
   "source": [
    "# Compute and print the statistics for each feature\n",
    "min_values = np.min(X, axis=0)\n",
    "max_values = np.max(X, axis=0)\n",
    "mean_values = np.mean(X, axis=0)\n",
    "variance_values = np.var(X, axis=0)\n",
    "\n",
    "print(\"Minimum values for each feature:\", min_values)\n",
    "print(\"Maximum values for each feature:\", max_values)\n",
    "print(\"Mean values for each feature:\", mean_values)\n",
    "print(\"Variance for each feature:\", variance_values)"
   ]
  },
  {
   "cell_type": "markdown",
   "id": "2eae04ee",
   "metadata": {
    "id": "7ac1c910"
   },
   "source": [
    "In past assignments, we have first normalized the data (subtracting the mean and scaling each feature).  We will not do that here, however. Why is that step unnecessary for our decision tree model?"
   ]
  },
  {
   "cell_type": "markdown",
   "id": "eef84d9b-671c-47a1-bfa8-d263f1aea9d7",
   "metadata": {
    "id": "561a4237"
   },
   "source": [
    "<font color=blue>Since decision trees make splits based on order and threshold comparisons, the scale or range of features does not influence the splitting decisions. Whether the features are in the range 0–1 or 0–1000, the decision-making process remains the same because the splits only depend on where the data points lie relative to each other within each feature."
   ]
  },
  {
   "cell_type": "markdown",
   "id": "eae86103",
   "metadata": {
    "id": "29ecfd60"
   },
   "source": [
    "#### Problem 2.2\n",
    "To allow faster experimentation, select the first 10,000 data points as training data, ``Xtr, Ytr``, and the next 10,000 data points as validation, ``Xva, Yva``.  Then, learn a decision tree classifier on ``Xtr`` using the ``DecisionTreeClassifier`` class from ``scikit-learn``.  Use a large depth, say ``max_depth=100``, and the Shannon entropy impurity function in your training.  Also, use ``random_state=seed`` to ensure consistency.\n",
    "\n",
    "Compute and print out the training error rate and validation error rate of your model."
   ]
  },
  {
   "cell_type": "code",
   "execution_count": 57,
   "id": "9deb5c70",
   "metadata": {
    "id": "3bee9cda"
   },
   "outputs": [
    {
     "name": "stdout",
     "output_type": "stream",
     "text": [
      "Training Error Rate: 0.0098\n",
      "Validation Error Rate: 0.3823\n"
     ]
    }
   ],
   "source": [
    "from sklearn.metrics import accuracy_score\n",
    "\n",
    "# Select the first 10,000 data points as training and the next 10,000 as validation\n",
    "Xtr, Ytr = data[:10000, :-1], data[:10000, -1]\n",
    "Xva, Yva = data[10000:20000, :-1], data[10000:20000, -1]\n",
    "\n",
    "\n",
    "# Create and train the decision tree classifier\n",
    "clf = tree.DecisionTreeClassifier(max_depth=100, criterion=\"entropy\", random_state=seed)\n",
    "clf.fit(Xtr, Ytr)\n",
    "\n",
    "# Calculate training and validation predictions\n",
    "Ytr_pred = clf.predict(Xtr)\n",
    "Yva_pred = clf.predict(Xva)\n",
    "\n",
    "# Calculate error rates\n",
    "training_error_rate = 1 - accuracy_score(Ytr, Ytr_pred)\n",
    "validation_error_rate = 1 - accuracy_score(Yva, Yva_pred)\n",
    "\n",
    "print(f\"Training Error Rate: {training_error_rate:.4f}\")\n",
    "print(f\"Validation Error Rate: {validation_error_rate:.4f}\")"
   ]
  },
  {
   "cell_type": "markdown",
   "id": "16955a7d",
   "metadata": {
    "id": "3213ff99"
   },
   "source": [
    "#### Problem 2.3\n",
    "Now try varying the ``max_depth`` parameter, , which forces the tree learning algorithm to stop after at most that many levels.  Test ``max_depth`` values in the range {1, 2, 3, ..., 16}, and plot the training and validation error rates versus ``max_depth``.\n",
    "Do models with higher ``max_depth`` have higher or lower complexity?\n",
    "What choice of ``max_depth`` provides the best decision tree model?"
   ]
  },
  {
   "cell_type": "code",
   "execution_count": 60,
   "id": "7c21fac3",
   "metadata": {
    "id": "0a6581f5"
   },
   "outputs": [
    {
     "data": {
      "image/png": "[encoded data removed]",
      "text/plain": [
       "<Figure size 640x480 with 1 Axes>"
      ]
     },
     "metadata": {},
     "output_type": "display_data"
    },
    {
     "name": "stdout",
     "output_type": "stream",
     "text": [
      "Minimum Validation Error: 0.3197 Best Max Depth: 4\n"
     ]
    }
   ],
   "source": [
    "# Initialize lists to store error rates\n",
    "train_errors = []\n",
    "val_errors = []\n",
    "depth_list = [i for i in range(1,17)]\n",
    "# Test max_depth values from 1 to 16\n",
    "for depth in depth_list:\n",
    "    # Train a Decision Tree with the specified max_depth\n",
    "    clf = tree.DecisionTreeClassifier(max_depth=depth, criterion=\"entropy\", random_state=seed)\n",
    "    clf.fit(Xtr, Ytr)\n",
    "    \n",
    "    # Compute training and validation error rates\n",
    "    train_error = 1 - accuracy_score(Ytr, clf.predict(Xtr))\n",
    "    val_error = 1 - accuracy_score(Yva, clf.predict(Xva))\n",
    "    \n",
    "    # Append errors to lists\n",
    "    train_errors.append(train_error)\n",
    "    val_errors.append(val_error)\n",
    "\n",
    "# Plot the training and validation error rates vs max_depth\n",
    "plt.figure()\n",
    "plt.plot(range(1, 17), train_errors, label='Training Error', marker='o')\n",
    "plt.plot(range(1, 17), val_errors, label='Validation Error', marker='o')\n",
    "plt.xlabel('Max Depth')\n",
    "plt.ylabel('Error Rate')\n",
    "plt.title('Training and Validation Error Rates vs Max Depth')\n",
    "plt.legend()\n",
    "plt.grid(True)\n",
    "plt.show()\n",
    "print(\"Minimum Validation Error:\",min(val_errors), \"Best Max Depth:\", depth_list[np.argmin(val_errors)] )"
   ]
  },
  {
   "cell_type": "markdown",
   "id": "9360f889-dea3-4cd7-b12f-7b9d83053cd3",
   "metadata": {},
   "source": [
    "<font color=blue> Discuss: (1) Models with higher max_depth have higher complexity, thus the training error will decrease.  (2) \"max_depth\" = 4 provides the best decision tree model as it has the minimum vadidation error."
   ]
  },
  {
   "cell_type": "markdown",
   "id": "fd6eef31",
   "metadata": {
    "id": "a0bf854e"
   },
   "source": [
    "#### Problem 2.4\n",
    "The ``min_samples_leaf`` parameter  controls the complexity of decision trees by lower bounding the amount of data required to split nodes when learning.  Fixing ``max_depth=100``, compute and plot the training and validation error rates for ``min_samples_leaf`` values in the range\n",
    "``{2**0, 2**1, 2**2, ... 2**17}``.\n",
    "Do models with higher ``min_samples_leaf`` have higher or lower complexity?\n",
    "What choice of ``min_samples_leaf`` provides the best decision tree model?\n",
    "Is this model better or worse than your depth-controlled model?"
   ]
  },
  {
   "cell_type": "code",
   "execution_count": 66,
   "id": "02562fb5",
   "metadata": {
    "id": "3c884a0c"
   },
   "outputs": [
    {
     "data": {
      "image/png": "[encoded data removed]",
      "text/plain": [
       "<Figure size 640x480 with 1 Axes>"
      ]
     },
     "metadata": {},
     "output_type": "display_data"
    },
    {
     "name": "stdout",
     "output_type": "stream",
     "text": [
      "Minimum Validation Error: 0.3237 Best Min Samples Leaf: 256\n"
     ]
    }
   ],
   "source": [
    "# Initialize lists to store error rates\n",
    "train_errors = []\n",
    "val_errors = []\n",
    "\n",
    "# Define min_samples_leaf values as powers of 2, from 2^0 to 2^17\n",
    "min_samples_leaf_values = [2**i for i in range(18)]\n",
    "\n",
    "# Loop over each min_samples_leaf value\n",
    "for min_samples_leaf in min_samples_leaf_values:\n",
    "    # Train a Decision Tree with the specified min_samples_leaf and max_depth=100\n",
    "    clf = tree.DecisionTreeClassifier(max_depth=100, criterion=\"entropy\", min_samples_leaf=min_samples_leaf, random_state=seed)\n",
    "    clf.fit(Xtr, Ytr)\n",
    "    \n",
    "    # Compute training and validation error rates\n",
    "    train_error = 1 - accuracy_score(Ytr, clf.predict(Xtr))\n",
    "    val_error = 1 - accuracy_score(Yva, clf.predict(Xva))\n",
    "    \n",
    "    # Append errors to lists\n",
    "    train_errors.append(train_error)\n",
    "    val_errors.append(val_error)\n",
    "\n",
    "# Plot the training and validation error rates vs min_samples_leaf\n",
    "plt.figure()\n",
    "plt.plot(min_samples_leaf_values, train_errors, label='Training Error', marker='o')\n",
    "plt.plot(min_samples_leaf_values, val_errors, label='Validation Error', marker='o')\n",
    "plt.xlabel('Min Samples Leaf')\n",
    "plt.ylabel('Error Rate')\n",
    "plt.title('Training and Validation Error Rates vs Min Samples Leaf')\n",
    "plt.xscale('log')  # Log scale to better visualize the powers of 2\n",
    "plt.legend()\n",
    "plt.grid(True)\n",
    "plt.show()\n",
    "print(\"Minimum Validation Error:\",min(val_errors), \"Best Min Samples Leaf:\", min_samples_leaf_values[np.argmin(val_errors)] )"
   ]
  },
  {
   "cell_type": "markdown",
   "id": "3006f3cf-9005-4c1c-bdb8-da841b7290b3",
   "metadata": {},
   "source": [
    "<font color=blue>  Discuss: (1) Higher min_samples_leaf values reduce model complexity. As min_samples_leaf increases, nodes must contain more samples before they can split, resulting in a simpler, more generalized tree.\n",
    "\n",
    "\n",
    "<font color=blue>(2) min_samples_leaf = 256 (2^8) provides the best decision tree model as it has the minimum validation error.\n",
    "\n",
    "\n",
    "<font color=blue>(3) This model is worse than the optimal depth-control model with \"max depth\" equals to 4 (error = 0.3197). Those two models' performance are almost the same. "
   ]
  },
  {
   "cell_type": "markdown",
   "id": "b725b0ca",
   "metadata": {
    "id": "b5b1e29f"
   },
   "source": [
    "<div>\n",
    "    <img src=\"data:image/svg+xml,%3C%3Fxml%20version%3D%221.0%22%20encoding%3D%22UTF-8%22%20standalone%3D%22no%22%3F%3E%0A%3C%21DOCTYPE%20svg%20PUBLIC%20%22-//W3C//DTD%20SVG%201.1//EN%22%20%22http%3A//www.w3.org/Graphics/SVG/1.1/DTD/svg11.dtd%22%3E%0A%3Csvg%20stroke-miterlimit%3D%2210%22%20style%3D%22fill-rule%3Anonzero%3Bclip-rule%3Aevenodd%3Bstroke-linecap%3Around%3Bstroke-linejoin%3Around%3B%22%20version%3D%221.1%22%20viewBox%3D%220%200%20288%2072%22%20xml%3Aspace%3D%22preserve%22%20xmlns%3D%22http%3A//www.w3.org/2000/svg%22%20xmlns%3Axlink%3D%22http%3A//www.w3.org/1999/xlink%22%3E%0A%3Cdefs/%3E%0A%3Cg%20id%3D%22Layer-1%22%3E%0A%3Cpath%20d%3D%22M34.042%2035.8741C45.8469%2023.244%2031.1794%2022.6473%2024.2857%2024.1167C17.3921%2025.5861-0.960215%2033.2987%206.07817%2043.4256C13.1166%2053.5525%2023.0237%2056.9377%2052.2446%2053.4091C81.4656%2049.8804%2097.2436%2032.811%20122.962%2029.3111C148.681%2025.8112%20155.118%2039.4093%20155.118%2039.4093%22%20fill%3D%22none%22%20opacity%3D%221%22%20stroke%3D%22%23000000%22%20stroke-linecap%3D%22butt%22%20stroke-linejoin%3D%22round%22%20stroke-width%3D%223%22/%3E%0A%3Cpath%20d%3D%22M254.053%2040.6889C242.328%2053.1071%20256.999%2053.6247%20263.883%2052.1549C270.768%2050.685%20289.071%2043.0512%20281.969%2033.1691C274.868%2023.287%20264.94%2020.0179%20235.741%2023.6051C206.543%2027.1922%20190.872%2043.9744%20165.176%2047.5176C139.48%2051.0607%20132.957%2037.7776%20132.957%2037.7776%22%20fill%3D%22none%22%20opacity%3D%221%22%20stroke%3D%22%23000000%22%20stroke-linecap%3D%22butt%22%20stroke-linejoin%3D%22round%22%20stroke-width%3D%223%22/%3E%0A%3C/g%3E%0A%3C/svg%3E%0A\" width=\"200\"/>\n",
    "</div>"
   ]
  },
  {
   "cell_type": "markdown",
   "id": "3bffb2de",
   "metadata": {
    "id": "d107dece"
   },
   "source": [
    "## Problem 3: Random Forests"
   ]
  },
  {
   "cell_type": "markdown",
   "id": "e0ff54bf",
   "metadata": {
    "id": "ece17c18"
   },
   "source": [
    "Although ``scikit`` has its own implementations of bagging estimators and random forests, here we will build a random forest model manually, for illustration.\n",
    "\n",
    "Random Forests are bagged collections of decision trees, which select their decision nodes from randomly chosen subsets of the possible features (rather than all features).  You can implement this easily in ``DecisionTreeClassifier`` using option ``max_features=n``, where ``n`` is the number of features to select from. Since you have ~ 14 features, you might choose, say, ``n=10``; smaller values of ``n`` will make each tree more random, but may require you to have a high maximum depth to ensure you still fit the data effectively.\n",
    "You'll write a for-loop to build the ensemble members, and another to compute the prediction of the ensemble."
   ]
  },
  {
   "cell_type": "markdown",
   "id": "bcb3cd95",
   "metadata": {
    "id": "ce482bc4"
   },
   "source": [
    "#### Problem 3.1\n",
    "\n",
    "Using your previous split of the data into training & validation sets,\n",
    "learn a bagged ensemble of decision trees on the training data;\n",
    "then in the next part, you will evaluate the validation performance of the ensemble.\n",
    "(See the pseudocode from lecture slides.)\n",
    "For your individual learners, use parameters that will not constrain the complexity of the resulting tree very much  (e.g., set your depth cutoff >= 15, min leaf 1-4, etc.), since the bagging will be used to control overfitting instead.\n",
    "\n",
    "You will implement bootstrap sampling yourself (again, see pseudocode); simply generate $m'$ data indices uniformly with replacement, using ``numpy`` functions or simply ``rand`` and conversion to integers.\n",
    "For your bootstrap process, draw the same number of data as in your training set after the\n",
    "validation split (i.e., set $m' = m$, the number of training data).\n",
    "\n",
    "Learn at least 50 ensemble members, as you will use them in the next part."
   ]
  },
  {
   "cell_type": "code",
   "execution_count": 73,
   "id": "2f61067e",
   "metadata": {
    "id": "30b7e804"
   },
   "outputs": [
    {
     "name": "stdout",
     "output_type": "stream",
     "text": [
      "Ensemble created with 50 trees.\n"
     ]
    }
   ],
   "source": [
    "# Set parameters for the bagging ensemble\n",
    "num_trees = 50        # Number of ensemble members\n",
    "max_depth = 15        # Max depth for individual trees\n",
    "min_samples_leaf = 2  # Min samples per leaf for individual trees\n",
    "\n",
    "# List to hold trained decision tree models\n",
    "ensemble = []\n",
    "\n",
    "# Bagging loop to create each individual tree\n",
    "for i in range(num_trees):\n",
    "    # Generate bootstrap sample by sampling indices with replacement\n",
    "    indices = np.random.choice(len(Xtr), size=len(Xtr), replace=True)\n",
    "    X_bootstrap, Y_bootstrap = Xtr[indices], Ytr[indices]\n",
    "    \n",
    "    # Initialize and train a Decision Tree on the bootstrap sample\n",
    "    clf = tree.DecisionTreeClassifier(max_features = 10, max_depth=max_depth, min_samples_leaf=min_samples_leaf, random_state=seed + i)\n",
    "    clf.fit(X_bootstrap, Y_bootstrap)\n",
    "    \n",
    "    # Append the trained tree to the ensemble\n",
    "    ensemble.append(clf)\n",
    "\n",
    "# Display how many models are in the ensemble\n",
    "print(f\"Ensemble created with {len(ensemble)} trees.\")"
   ]
  },
  {
   "cell_type": "markdown",
   "id": "3afe730d",
   "metadata": {
    "id": "78a93a66"
   },
   "source": [
    "#### Problem 3.2\n",
    "\n",
    "Plot the training and validation error of the ensemble as a function of the number of learners $B$ that you include in the ensemble, for (at least) values $B \\in \\{1,5,10,25,50\\}$.  (Just use the first $B$ learners that you trained in part 1.)\n",
    "\n",
    "Remember that your ensemble predicts by making a prediction for each member model, and then taking a vote among the $B$ models.  Since your target classes are +1 and -1, as in the slide pseudocode, to find the outcome of the vote you can simply check whether the average of the class predictions is positive or negative."
   ]
  },
  {
   "cell_type": "code",
   "execution_count": 76,
   "id": "66a23335",
   "metadata": {
    "id": "2428ddfb"
   },
   "outputs": [
    {
     "name": "stdout",
     "output_type": "stream",
     "text": [
      "B=1: Training Error=0.2034, Validation Error=0.3555\n",
      "B=5: Training Error=0.1538, Validation Error=0.3233\n",
      "B=10: Training Error=0.1624, Validation Error=0.3595\n",
      "B=25: Training Error=0.1302, Validation Error=0.3149\n",
      "B=50: Training Error=0.1278, Validation Error=0.3165\n"
     ]
    },
    {
     "data": {
      "image/png": "[encoded data removed]",
      "text/plain": [
       "<Figure size 640x480 with 1 Axes>"
      ]
     },
     "metadata": {},
     "output_type": "display_data"
    }
   ],
   "source": [
    "# Function to calculate ensemble predictions by voting\n",
    "def ensemble_predict(ensemble, X, B):\n",
    "    predictions = np.zeros(len(X))\n",
    "    # Accumulate predictions from the first B models in the ensemble\n",
    "    for i in range(B):\n",
    "        predictions += ensemble[i].predict(X)\n",
    "    # Average and apply the sign function to get final class (-1 or +1)\n",
    "    return np.sign(predictions)\n",
    "\n",
    "# Values of B to test\n",
    "B_values = [1, 5, 10, 25, 50]\n",
    "train_errors = []\n",
    "validation_errors = []\n",
    "\n",
    "# Calculate training and validation error for each B\n",
    "for B in B_values:\n",
    "    # Predict on training data\n",
    "    Ytr_pred = ensemble_predict(ensemble, Xtr, B)\n",
    "    train_error = 1 - accuracy_score(Ytr, Ytr_pred)\n",
    "    train_errors.append(train_error)\n",
    "\n",
    "    # Predict on validation data\n",
    "    Yva_pred = ensemble_predict(ensemble, Xva, B)\n",
    "    validation_error = 1 - accuracy_score(Yva, Yva_pred)\n",
    "    validation_errors.append(validation_error)\n",
    "\n",
    "    print(f\"B={B}: Training Error={train_error:.4f}, Validation Error={validation_error:.4f}\")\n",
    "\n",
    "# Plotting the results\n",
    "plt.figure()\n",
    "plt.plot(B_values, train_errors, marker='o', label=\"Training Error\")\n",
    "plt.plot(B_values, validation_errors, marker='s', label=\"Validation Error\")\n",
    "plt.xlabel(\"Number of Learners (B)\")\n",
    "plt.ylabel(\"Error Rate\")\n",
    "plt.title(\"Training and Validation Error vs. Number of Learners\")\n",
    "plt.legend()\n",
    "plt.show()"
   ]
  },
  {
   "cell_type": "markdown",
   "id": "69462d27",
   "metadata": {
    "id": "9d09a6bf"
   },
   "source": [
    "<div>\n",
    "    <img src=\"data:image/svg+xml,%3C%3Fxml%20version%3D%221.0%22%20encoding%3D%22UTF-8%22%20standalone%3D%22no%22%3F%3E%0A%3C%21DOCTYPE%20svg%20PUBLIC%20%22-//W3C//DTD%20SVG%201.1//EN%22%20%22http%3A//www.w3.org/Graphics/SVG/1.1/DTD/svg11.dtd%22%3E%0A%3Csvg%20stroke-miterlimit%3D%2210%22%20style%3D%22fill-rule%3Anonzero%3Bclip-rule%3Aevenodd%3Bstroke-linecap%3Around%3Bstroke-linejoin%3Around%3B%22%20version%3D%221.1%22%20viewBox%3D%220%200%20288%2072%22%20xml%3Aspace%3D%22preserve%22%20xmlns%3D%22http%3A//www.w3.org/2000/svg%22%20xmlns%3Axlink%3D%22http%3A//www.w3.org/1999/xlink%22%3E%0A%3Cdefs/%3E%0A%3Cg%20id%3D%22Layer-1%22%3E%0A%3Cpath%20d%3D%22M34.042%2035.8741C45.8469%2023.244%2031.1794%2022.6473%2024.2857%2024.1167C17.3921%2025.5861-0.960215%2033.2987%206.07817%2043.4256C13.1166%2053.5525%2023.0237%2056.9377%2052.2446%2053.4091C81.4656%2049.8804%2097.2436%2032.811%20122.962%2029.3111C148.681%2025.8112%20155.118%2039.4093%20155.118%2039.4093%22%20fill%3D%22none%22%20opacity%3D%221%22%20stroke%3D%22%23000000%22%20stroke-linecap%3D%22butt%22%20stroke-linejoin%3D%22round%22%20stroke-width%3D%223%22/%3E%0A%3Cpath%20d%3D%22M254.053%2040.6889C242.328%2053.1071%20256.999%2053.6247%20263.883%2052.1549C270.768%2050.685%20289.071%2043.0512%20281.969%2033.1691C274.868%2023.287%20264.94%2020.0179%20235.741%2023.6051C206.543%2027.1922%20190.872%2043.9744%20165.176%2047.5176C139.48%2051.0607%20132.957%2037.7776%20132.957%2037.7776%22%20fill%3D%22none%22%20opacity%3D%221%22%20stroke%3D%22%23000000%22%20stroke-linecap%3D%22butt%22%20stroke-linejoin%3D%22round%22%20stroke-width%3D%223%22/%3E%0A%3C/g%3E%0A%3C/svg%3E%0A\" width=\"200\"/>\n",
    "</div>"
   ]
  },
  {
   "cell_type": "markdown",
   "id": "9dbf38aa",
   "metadata": {},
   "source": [
    "## Problem 4: Shattering & VC Dimension\n",
    "\n",
    "Consider the following four \"datasets\", which have two real-valued features $x_1,x_2$:"
   ]
  },
  {
   "cell_type": "code",
   "execution_count": 80,
   "id": "4c142caa",
   "metadata": {},
   "outputs": [
    {
     "data": {
      "image/png": "[encoded data removed]",
      "text/plain": [
       "<Figure size 1200x300 with 4 Axes>"
      ]
     },
     "metadata": {},
     "output_type": "display_data"
    }
   ],
   "source": [
    "fig, axes = plt.subplots(1, 4, figsize=(12, 3))\n",
    "x = np.array([[2,2],[4,8],[6,3],[8,6]])\n",
    "for i in range(4): \n",
    "    axes[i].plot(x[:i+1,0],x[:i+1,1],'ro',ms=8); axes[i].axis([0,10,0,10]); axes[i].set_title(f'({i+1})')\n",
    "    axes[i].set_xticks(np.unique(x[:,0])); axes[i].set_yticks(np.unique(x[:,1])); "
   ]
  },
  {
   "cell_type": "markdown",
   "id": "0b5322f3",
   "metadata": {},
   "source": [
    "(Note that no three of the four points are co-linear.)\n",
    "\n",
    "For each of the learners listed below, answer **(a)** which of the four data sets **can be shattered** by a learner of that form?  Give a brief explanation / justification (1-2 sentences). Then use your results to **(b)** guess the VC dimension of the classifier (you do not have to give a formal proof, just your reasoning).\n",
    "\n",
    "In each learner, the parameters $a,b,c,\\ldots$ are real-valued scalars, and $T[z]$ is the sign threshold function, i.e., $T[z]=+1$ for $z\\geq 0$ and $T[z] = -1$ for $z<0$."
   ]
  },
  {
   "cell_type": "markdown",
   "id": "740ec8e9",
   "metadata": {},
   "source": [
    "* $T(\\ a + b \\ x_1 \\ )$"
   ]
  },
  {
   "cell_type": "code",
   "execution_count": 84,
   "id": "ccf4c201-2630-45f4-ae1f-87e3ed1420c7",
   "metadata": {},
   "outputs": [],
   "source": [
    "# (a) which data sets & why? \n",
    "# (b) VC dimension guess?"
   ]
  },
  {
   "cell_type": "markdown",
   "id": "6a9ec117-a675-4846-aba4-10234229a867",
   "metadata": {},
   "source": [
    "<font color=blue> Ans: The decision boundary of this learner is only related to $x_1$, which is a vertical line dividing the 2D space into left and right parts.\n",
    "\n",
    "<font color=blue>(a) Dataset 1 and dataset 2 can be shattered. For dataset 1, the line can be put in the left / right side of the point when the point is 1 / -1. For dataset 2, the line can be put in the left, right of the 2 points when the points are 1,1 / -1,-1. The line can be put in the the middle of the 2 points when the points are 1,-1 / -1,1.\n",
    "\n",
    "\n",
    "<font color=blue>(b) The VC dimension is 2 as it cannot shatter the dataset with 3 points, when the class of 3 points from left to right are 1, -1, 1/-1, 1, -1"
   ]
  },
  {
   "cell_type": "markdown",
   "id": "c5a3ec93",
   "metadata": {},
   "source": [
    "* $T(\\ (a*b)\\ x_1 + (c/a) \\ x_2 \\ )$"
   ]
  },
  {
   "cell_type": "code",
   "execution_count": 88,
   "id": "4ee6976a",
   "metadata": {},
   "outputs": [],
   "source": [
    "# (a) which data sets & why? \n",
    "# (b) VC dimension guess?"
   ]
  },
  {
   "cell_type": "markdown",
   "id": "0c582b70-4cef-498b-9fbf-15cce91ce874",
   "metadata": {},
   "source": [
    "<font color=blue> This classifier is linear in both $x_1$ and $x_2$, thus it represents a linear function across the origin in a 2D space.\n",
    "\n",
    "<font color=blue>(a) Dataset 1, 2 can be shattered, but dataset 3 and dataset 4 cannot be shattered. For dataset 3, it can not be shattered when the class of 3 points from left to right are +1, -1, -1; For dataset4,  it can not be shattered when the class of 4 points from left to right are 1,-1,-1,1 or -1,1,1,-1.\n",
    "\n",
    "<font color=blue>(b) The VC dimention is 2. In two-dimensional space, any set of three points can not be divided by a single line across the origin."
   ]
  },
  {
   "cell_type": "markdown",
   "id": "addd01cb",
   "metadata": {},
   "source": [
    "* $T(\\ (x_1-a)^2 + (x_2 -b)^2 - c \\ )$"
   ]
  },
  {
   "cell_type": "code",
   "execution_count": 92,
   "id": "65abb9c4",
   "metadata": {},
   "outputs": [],
   "source": [
    "# (a) which data sets & why? \n",
    "# (b) VC dimension guess?"
   ]
  },
  {
   "cell_type": "markdown",
   "id": "abb90971-c919-4bec-a9ea-aeb595e1ee17",
   "metadata": {},
   "source": [
    "<font color=blue>  This classifier actually divides data in two-dimensional space through a circle with a center at (a, b) and a radius of root c. It can classify data points based on whether they are located inside or outside the circle.\n",
    "\n",
    "<font color=blue>(a) Dataset 1, 2, 3 can be shattered, but dataset 4 cannot be shattered when the class of 4 points from left to right are 1,-1,-1,1 or -1,1,1,-1.\n",
    "\n",
    "<font color=blue>(b) The VC dimention is 3. In two-dimensional space, any set of three points can be divided by a segment of arc. However, it cannot shatter any datasets with 4 points, when the class of 4 points from left to right are 1,-1,-1,1 or -1,1,1,-1."
   ]
  },
  {
   "cell_type": "markdown",
   "id": "29471af4",
   "metadata": {},
   "source": [
    "#### Extra Credit:\n",
    "* $T(\\ a + b\\,x_1 + c\\,x_2 \\ ) \\times T(\\ d + b\\,x_1 + c\\,x_2 \\ )$\n",
    "  - **Hint:** the two linear equations correspond to two parallel lines, since both have the same coefficients for $x_1$ and $x_2$.  Then, $T(z)\\times T(z') = +1$ if and only if $z$ and $z'$ have the same sign."
   ]
  },
  {
   "cell_type": "code",
   "execution_count": 96,
   "id": "4363ad70",
   "metadata": {},
   "outputs": [],
   "source": [
    "# (a) which data sets & why? \n",
    "# (b) VC dimension guess?"
   ]
  },
  {
   "cell_type": "markdown",
   "id": "bbe4da18-e126-4832-91af-2859fe379cac",
   "metadata": {},
   "source": [
    "<font color=blue>(a) Dataset 1, 2, 3, 4 can all be shattered. Since it corrspond to two parallel lines, it can seperate the dataset 4 when the class of 4 points from left to right are 1,-1,-1,1 or -1,1,1,-1.\n",
    "\n",
    "<font color=blue>(b) The VC dimention is 4. As mentioned above, it can shatter any datasets with 4 points, even when the class of 4 points from left to right are 1,-1,-1,1 or -1,1,1,-1."
   ]
  },
  {
   "cell_type": "markdown",
   "id": "befeff62",
   "metadata": {
    "id": "9d09a6bf"
   },
   "source": [
    "<div>\n",
    "    <img src=\"data:image/svg+xml,%3C%3Fxml%20version%3D%221.0%22%20encoding%3D%22UTF-8%22%20standalone%3D%22no%22%3F%3E%0A%3C%21DOCTYPE%20svg%20PUBLIC%20%22-//W3C//DTD%20SVG%201.1//EN%22%20%22http%3A//www.w3.org/Graphics/SVG/1.1/DTD/svg11.dtd%22%3E%0A%3Csvg%20stroke-miterlimit%3D%2210%22%20style%3D%22fill-rule%3Anonzero%3Bclip-rule%3Aevenodd%3Bstroke-linecap%3Around%3Bstroke-linejoin%3Around%3B%22%20version%3D%221.1%22%20viewBox%3D%220%200%20288%2072%22%20xml%3Aspace%3D%22preserve%22%20xmlns%3D%22http%3A//www.w3.org/2000/svg%22%20xmlns%3Axlink%3D%22http%3A//www.w3.org/1999/xlink%22%3E%0A%3Cdefs/%3E%0A%3Cg%20id%3D%22Layer-1%22%3E%0A%3Cpath%20d%3D%22M34.042%2035.8741C45.8469%2023.244%2031.1794%2022.6473%2024.2857%2024.1167C17.3921%2025.5861-0.960215%2033.2987%206.07817%2043.4256C13.1166%2053.5525%2023.0237%2056.9377%2052.2446%2053.4091C81.4656%2049.8804%2097.2436%2032.811%20122.962%2029.3111C148.681%2025.8112%20155.118%2039.4093%20155.118%2039.4093%22%20fill%3D%22none%22%20opacity%3D%221%22%20stroke%3D%22%23000000%22%20stroke-linecap%3D%22butt%22%20stroke-linejoin%3D%22round%22%20stroke-width%3D%223%22/%3E%0A%3Cpath%20d%3D%22M254.053%2040.6889C242.328%2053.1071%20256.999%2053.6247%20263.883%2052.1549C270.768%2050.685%20289.071%2043.0512%20281.969%2033.1691C274.868%2023.287%20264.94%2020.0179%20235.741%2023.6051C206.543%2027.1922%20190.872%2043.9744%20165.176%2047.5176C139.48%2051.0607%20132.957%2037.7776%20132.957%2037.7776%22%20fill%3D%22none%22%20opacity%3D%221%22%20stroke%3D%22%23000000%22%20stroke-linecap%3D%22butt%22%20stroke-linejoin%3D%22round%22%20stroke-width%3D%223%22/%3E%0A%3C/g%3E%0A%3C/svg%3E%0A\" width=\"200\"/>\n",
    "</div>"
   ]
  },
  {
   "cell_type": "markdown",
   "id": "6bde7e10",
   "metadata": {
    "id": "0cfad271"
   },
   "source": [
    "---\n",
    "### Statement of Collaboration (5 points)\n",
    "\n",
    "It is **mandatory** to include a Statement of Collaboration in each submission, with respect to the guidelines below. Include the names of everyone involved in the discussions (especially in-person ones), and what was discussed.\n",
    "\n",
    "All students are required to follow the academic honesty guidelines posted on the course website. For\n",
    "programming assignments, in particular, I encourage the students to organize (perhaps using EdD) to\n",
    "discuss the task descriptions, requirements, bugs in my code, and the relevant technical content before they start\n",
    "working on it. However, you should not discuss the specific solutions, and, as a guiding principle, you are not\n",
    "allowed to take anything written or drawn away from these discussions (i.e. no photographs of the blackboard,\n",
    "written notes, referring to EdD, etc.). Especially after you have started working on the assignment, try\n",
    "to restrict the discussion to EdD as much as possible, so that there is no doubt as to the extent of your\n",
    "collaboration."
   ]
  },
  {
   "cell_type": "markdown",
   "id": "86952e31-404b-4930-9a8f-e847e8e36627",
   "metadata": {
    "id": "ff1eeb6f"
   },
   "source": [
    "<font color=blue>This assignment is completed independently by me."
   ]
  }
 ],
 "metadata": {
  "colab": {
   "provenance": []
  },
  "hide_input": false,
  "kernelspec": {
   "display_name": "Python 3 (ipykernel)",
   "language": "python",
   "name": "python3"
  },
  "language_info": {
   "codemirror_mode": {
    "name": "ipython",
    "version": 3
   },
   "file_extension": ".py",
   "mimetype": "text/x-python",
   "name": "python",
   "nbconvert_exporter": "python",
   "pygments_lexer": "ipython3",
   "version": "3.12.4"
  },
  "toc": {
   "base_numbering": 1,
   "nav_menu": {},
   "number_sections": true,
   "sideBar": true,
   "skip_h1_title": false,
   "title_cell": "Table of Contents",
   "title_sidebar": "Contents",
   "toc_cell": false,
   "toc_position": {},
   "toc_section_display": true,
   "toc_window_display": false
  },
  "varInspector": {
   "cols": {
    "lenName": 16,
    "lenType": 16,
    "lenVar": 40
   },
   "kernels_config": {
    "python": {
     "delete_cmd_postfix": "",
     "delete_cmd_prefix": "del ",
     "library": "var_list.py",
     "varRefreshCmd": "print(var_dic_list())"
    },
    "r": {
     "delete_cmd_postfix": ") ",
     "delete_cmd_prefix": "rm(",
     "library": "var_list.r",
     "varRefreshCmd": "cat(var_dic_list()) "
    }
   },
   "types_to_exclude": [
    "module",
    "function",
    "builtin_function_or_method",
    "instance",
    "_Feature"
   ],
   "window_display": false
  }
 },
 "nbformat": 4,
 "nbformat_minor": 5
}
