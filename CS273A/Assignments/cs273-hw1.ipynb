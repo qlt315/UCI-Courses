{
 "cells": [
  {
   "cell_type": "markdown",
   "id": "a1606622",
   "metadata": {},
   "source": [
    "# CS273A Homework 1 \n",
    "### Due: Monday, October 7th 2024 (11:59 PM)"
   ]
  },
  {
   "cell_type": "markdown",
   "id": "3b358944",
   "metadata": {
    "id": "a0921f03"
   },
   "source": [
    "---\n",
    "## Instructions\n",
    "\n",
    "Welcome to CS 273A!\n",
    "\n",
    "\n",
    "This homework (and many subsequent ones) will involve data analysis and reporting on methods and results\n",
    "using Python code. You will submit a **single PDF file** that contains everything to Gradescope. This includes any text you wish to include to describe your results, the complete code snippets of how you attempted each problem, any figures that were generated, and scans of any work on paper that you wish to include. It is important that you include enough detail that we know how you solved the problem, since otherwise we will be unable to grade it.\n",
    "\n",
    "\n",
    "Your homeworks will be given to you as Jupyter notebooks containing the problem descriptions and some template code that will help you get started. You are encouraged to modify these starter Jupyter notebooks to complete your assignment and to write your report. You may add additional cells (containing either code or text) as needed. This will help you not only ensure that all of the code for the solutions is included, but also will provide an easy way to export your results to a PDF file (for example, doing *print preview* and *printing to pdf*). I recommend liberal use of Markdown cells to create headers for each problem and sub-problem, explaining your implementation/answers, and including any mathematical equations. For parts of the homework you do on paper, scan it in such that it is legible (there are a number of free Android/iOS scanning apps, if you do not have access to a scanner), and include it as an image in the Jupyter notebook.\n",
    "\n",
    "Several problems in this assignment require you to create plots. Use `matplotlib.pyplot` to do this, which is already imported for you as `plt`. Do not use any other plotting libraries, such as `pandas` or `seaborn`. Unless you are told otherwise, you should call `pyplot` plotting functions with their default arguments.\n",
    " \n",
    "If you have any questions/concerns about the homework problems or using Jupyter notebooks, ask us on EdD. If you decide not to use Jupyter notebooks, but go with Microsoft Word or Latex to create your PDF file, make sure that all of the answers can be generated from the code snippets included in the document.\n",
    "\n",
    "### Summary of Assignment: 100 total points\n",
    "- Problem 1: Exploring a NYC Housing Dataset (25 points)\n",
    "    - Problem 1.1: Numpy Arrays (5 points)\n",
    "    - Problem 1.2: Feature Statistics (5 points)\n",
    "    - Problem 1.3: Logical Indexing (5 points)\n",
    "    - Problem 1.4: Histograms (5 points)\n",
    "    - Problem 1.5: Scatter Plots (5 points)\n",
    "- Problem 2: Building a Nearest Centroid Classifier (35 points)\n",
    "    - Problem 2.1: Implementing Nearest Centroids (20 points)\n",
    "    - Problem 2.2: Evaluating Nearest Centroids (15 points)\n",
    "- Problem 3: Decision Boundaries (15 points)\n",
    "    - Problem 3.1: Visualize 2D Centroid Classifier (5 points)\n",
    "    - Problem 3.2: Visualize 2D Gaussian Bayes Classifier (5 points)\n",
    "    - Problem 3.3: Analysis (5 points)\n",
    "- Problem 4: MNIST data (20 points)\n",
    "    - Problem 4.1: Training the model (5 points)\n",
    "    - Problem 4.2: Visualizing the centroids (5 points)\n",
    "    - Problem 4.3: Error rate and confusion matrix (10 points)\n",
    "- Statement of Collaboration (5 points)\n",
    "\n",
    "<div>\n",
    "    <img src=\"data:image/svg+xml,%3C%3Fxml%20version%3D%221.0%22%20encoding%3D%22UTF-8%22%20standalone%3D%22no%22%3F%3E%0A%3C%21DOCTYPE%20svg%20PUBLIC%20%22-//W3C//DTD%20SVG%201.1//EN%22%20%22http%3A//www.w3.org/Graphics/SVG/1.1/DTD/svg11.dtd%22%3E%0A%3Csvg%20stroke-miterlimit%3D%2210%22%20style%3D%22fill-rule%3Anonzero%3Bclip-rule%3Aevenodd%3Bstroke-linecap%3Around%3Bstroke-linejoin%3Around%3B%22%20version%3D%221.1%22%20viewBox%3D%220%200%20288%2072%22%20xml%3Aspace%3D%22preserve%22%20xmlns%3D%22http%3A//www.w3.org/2000/svg%22%20xmlns%3Axlink%3D%22http%3A//www.w3.org/1999/xlink%22%3E%0A%3Cdefs/%3E%0A%3Cg%20id%3D%22Layer-1%22%3E%0A%3Cpath%20d%3D%22M34.042%2035.8741C45.8469%2023.244%2031.1794%2022.6473%2024.2857%2024.1167C17.3921%2025.5861-0.960215%2033.2987%206.07817%2043.4256C13.1166%2053.5525%2023.0237%2056.9377%2052.2446%2053.4091C81.4656%2049.8804%2097.2436%2032.811%20122.962%2029.3111C148.681%2025.8112%20155.118%2039.4093%20155.118%2039.4093%22%20fill%3D%22none%22%20opacity%3D%221%22%20stroke%3D%22%23000000%22%20stroke-linecap%3D%22butt%22%20stroke-linejoin%3D%22round%22%20stroke-width%3D%223%22/%3E%0A%3Cpath%20d%3D%22M254.053%2040.6889C242.328%2053.1071%20256.999%2053.6247%20263.883%2052.1549C270.768%2050.685%20289.071%2043.0512%20281.969%2033.1691C274.868%2023.287%20264.94%2020.0179%20235.741%2023.6051C206.543%2027.1922%20190.872%2043.9744%20165.176%2047.5176C139.48%2051.0607%20132.957%2037.7776%20132.957%2037.7776%22%20fill%3D%22none%22%20opacity%3D%221%22%20stroke%3D%22%23000000%22%20stroke-linecap%3D%22butt%22%20stroke-linejoin%3D%22round%22%20stroke-width%3D%223%22/%3E%0A%3C/g%3E%0A%3C/svg%3E%0A\" width=\"200\"/>\n",
    "</div>"
   ]
  },
  {
   "cell_type": "markdown",
   "id": "1f3fca9d",
   "metadata": {
    "id": "b6a8b0d7"
   },
   "source": [
    "Before we get started, let's import some libraries that you will make use of in this assignment. Make sure that you run the code cell below in order to import these libraries.\n",
    "\n",
    "**Important: In the code block below, we set `seed=123`. This is to ensure your code has reproducible results and is important for grading. Do not change this. If you are not using the provided Jupyter notebook, make sure to also set the random seed as below.**"
   ]
  },
  {
   "cell_type": "code",
   "execution_count": 2,
   "id": "052c762f",
   "metadata": {
    "colab": {
     "base_uri": "https://localhost:8080/",
     "height": 377
    },
    "executionInfo": {
     "elapsed": 9278,
     "status": "ok",
     "timestamp": 1674243555773,
     "user": {
      "displayName": "Yibo Yang",
      "userId": "07752505606306986753"
     },
     "user_tz": 480
    },
    "id": "F1wgeaMlsRA4",
    "outputId": "a38dd048-1592-4d3b-e087-ea4235369726"
   },
   "outputs": [
    {
     "name": "stdout",
     "output_type": "stream",
     "text": [
      "Requirement already satisfied: scikit-learn in /opt/anaconda3/lib/python3.12/site-packages (1.4.2)\n",
      "Collecting scikit-learn\n",
      "  Downloading scikit_learn-1.5.2-cp312-cp312-macosx_12_0_arm64.whl.metadata (13 kB)\n",
      "Requirement already satisfied: numpy>=1.19.5 in /opt/anaconda3/lib/python3.12/site-packages (from scikit-learn) (1.26.4)\n",
      "Requirement already satisfied: scipy>=1.6.0 in /opt/anaconda3/lib/python3.12/site-packages (from scikit-learn) (1.13.1)\n",
      "Requirement already satisfied: joblib>=1.2.0 in /opt/anaconda3/lib/python3.12/site-packages (from scikit-learn) (1.4.2)\n",
      "Collecting threadpoolctl>=3.1.0 (from scikit-learn)\n",
      "  Downloading threadpoolctl-3.5.0-py3-none-any.whl.metadata (13 kB)\n",
      "Downloading scikit_learn-1.5.2-cp312-cp312-macosx_12_0_arm64.whl (11.0 MB)\n",
      "\u001b[2K   \u001b[90m━━━━━━━━━━━━━━━━━━━━━━━━━━━━━━━━━━━━━━━━\u001b[0m \u001b[32m11.0/11.0 MB\u001b[0m \u001b[31m15.6 MB/s\u001b[0m eta \u001b[36m0:00:00\u001b[0m00:01\u001b[0m00:01\u001b[0m\n",
      "\u001b[?25hDownloading threadpoolctl-3.5.0-py3-none-any.whl (18 kB)\n",
      "Installing collected packages: threadpoolctl, scikit-learn\n",
      "  Attempting uninstall: threadpoolctl\n",
      "    Found existing installation: threadpoolctl 2.2.0\n",
      "    Uninstalling threadpoolctl-2.2.0:\n",
      "      Successfully uninstalled threadpoolctl-2.2.0\n",
      "  Attempting uninstall: scikit-learn\n",
      "    Found existing installation: scikit-learn 1.4.2\n",
      "    Uninstalling scikit-learn-1.4.2:\n",
      "      Successfully uninstalled scikit-learn-1.4.2\n",
      "Successfully installed scikit-learn-1.5.2 threadpoolctl-3.5.0\n"
     ]
    }
   ],
   "source": [
    "# If you haven't installed numpy, pyplot, scikit, etc., do so:\n",
    "!pip install -U scikit-learn"
   ]
  },
  {
   "cell_type": "code",
   "execution_count": 4,
   "id": "d2299782",
   "metadata": {
    "executionInfo": {
     "elapsed": 1753,
     "status": "ok",
     "timestamp": 1674243573938,
     "user": {
      "displayName": "Yibo Yang",
      "userId": "07752505606306986753"
     },
     "user_tz": 480
    },
    "id": "acbf59a7"
   },
   "outputs": [],
   "source": [
    "import numpy as np\n",
    "import matplotlib.pyplot as plt\n",
    "\n",
    "from sklearn.datasets import fetch_openml\n",
    "from sklearn.neighbors import NearestCentroid\n",
    "from sklearn.metrics import zero_one_loss, confusion_matrix, ConfusionMatrixDisplay\n",
    "from sklearn.inspection import DecisionBoundaryDisplay\n",
    "\n",
    "import requests           # we'll use these for reading data from a url\n",
    "from io import StringIO\n",
    "\n",
    "# Fix the random seed for reproducibility\n",
    "# !! Important !! : do not change this\n",
    "seed = 123\n",
    "np.random.seed(seed)  "
   ]
  },
  {
   "cell_type": "markdown",
   "id": "1c946a91",
   "metadata": {
    "id": "b829d07b"
   },
   "source": [
    "## Problem 1: Exploring a NYC Housing Dataset\n",
    "\n",
    "In this problem, you will explore some basic data manipulation and visualizations with a small dataset of real estate prices from NYC. For every datapoint, we are given several real-valued features which will be used to predict the target variable, y, representing in which borough the property is located. Let's first load in the dataset by running the code cell below:"
   ]
  },
  {
   "cell_type": "code",
   "execution_count": 7,
   "id": "9dcabc28",
   "metadata": {
    "executionInfo": {
     "elapsed": 882,
     "status": "ok",
     "timestamp": 1674243574813,
     "user": {
      "displayName": "Yibo Yang",
      "userId": "07752505606306986753"
     },
     "user_tz": 480
    },
    "id": "5c91df58"
   },
   "outputs": [],
   "source": [
    "# Load the features and labels from an online text file\n",
    "url = 'https://ics.uci.edu/~ihler/classes/cs273/data/nyc_housing.txt'\n",
    "with requests.get(url) as link:\n",
    "    datafile = StringIO(link.text)\n",
    "    nych = np.genfromtxt(datafile,delimiter=',')\n",
    "    nych_X, nych_y = nych[:,:-1], nych[:,-1]"
   ]
  },
  {
   "cell_type": "markdown",
   "id": "3366a136",
   "metadata": {},
   "source": [
    "These data correspond to (a small subset of) property sales in New York in 2014. The target, $y$, represents the borough in which the property was located (0: Manhattan; 1: Bronx; 2: Staten Island).  The observed features correspond to the property size (square feet), price (USD), and year built; the first two features have been log2-transformed (e.g., $x_1 = \\log_2(\\textrm{size})$) for convenience."
   ]
  },
  {
   "cell_type": "markdown",
   "id": "01286fdc-b364-44b5-853a-9d4d976ebf87",
   "metadata": {},
   "source": [
    "<font color=blue>Note: All answers will be written in blue font, and the code will be provided after the answer (if available).</font>"
   ]
  },
  {
   "cell_type": "markdown",
   "id": "b46fc15a",
   "metadata": {
    "id": "f513457f"
   },
   "source": [
    "### Problem 1.1 (5 points): Numpy Arrays\n",
    "\n",
    "The variable `nych_X` is a numpy array containing the feature vectors in our dataset, and `nych_y` is a numpy array containing the corresponding labels.\n",
    "\n",
    "- What is the shape of `nych_X` and `nych_y`? ([Hint](https://numpy.org/doc/stable/reference/generated/numpy.ndarray.shape.html))\n",
    "- How many datapoints are in our dataset, and how many features does each datapoint have? \n",
    "- How many different classes (i.e. labels)  are there? \n",
    "- Print rows 3, 4, 5, and 6 of the feature matrix and their corresponding labels. Since Python is zero-indexed, we will count our rows starting at zero -- for example, by \"row 0\" we mean `nych_X[0, :]`, and \"row 1\" means `nych_X[1, :]`, etc. (Hint: you can do this in two lines of code with slicing).\n"
   ]
  },
  {
   "cell_type": "markdown",
   "id": "453a0fef-bfa3-4c1a-bb97-37af2d73303e",
   "metadata": {},
   "source": [
    "<font color=blue> 1)  the shape of nych_X is (300, 3) and the shape of nych_Y is (300, ).</font>"
   ]
  },
  {
   "cell_type": "code",
   "execution_count": 59,
   "id": "9b808741-ba11-402d-839d-dac6457ac229",
   "metadata": {
    "executionInfo": {
     "elapsed": 9,
     "status": "ok",
     "timestamp": 1674243574814,
     "user": {
      "displayName": "Yibo Yang",
      "userId": "07752505606306986753"
     },
     "user_tz": 480
    },
    "id": "706988de"
   },
   "outputs": [
    {
     "name": "stdout",
     "output_type": "stream",
     "text": [
      "shape of nych_X: (300, 3) \n",
      "shape of nych_Y: (300,)\n"
     ]
    }
   ],
   "source": [
    "# 1) What is the shape of nych_X and nych_y\n",
    "print(\"shape of nych_X:\", nych_X.shape, \"\\nshape of nych_Y:\", nych_y.shape)"
   ]
  },
  {
   "cell_type": "markdown",
   "id": "64d67541-aa09-4dbf-9181-e1159431fe52",
   "metadata": {},
   "source": [
    "<font color=blue> 2) There are 300 data points are in our dataset, and each datapoint have 3 features.</font>"
   ]
  },
  {
   "cell_type": "markdown",
   "id": "cf5098f4-06d6-434b-a669-06fa585c9791",
   "metadata": {},
   "source": [
    "<font color=blue> 3) There are 3 classes (label), i.e., 0: Manhattan; 1: Bronx; 2: Staten Island.</font>"
   ]
  },
  {
   "cell_type": "markdown",
   "id": "dd897944-edbd-45b4-ad47-67113e282fcf",
   "metadata": {},
   "source": [
    "<font color=blue> 4) rows 3, 4, 5, and 6 of the feature matrix and their corresponding labels are shown below. </font>"
   ]
  },
  {
   "cell_type": "code",
   "execution_count": 94,
   "id": "803f2ed7-3078-48f4-b58b-22aa9cbfe743",
   "metadata": {},
   "outputs": [
    {
     "name": "stdout",
     "output_type": "stream",
     "text": [
      "rows_features:\n",
      " [[  11.839204   19.416995 1980.      ]\n",
      " [  18.517396   25.357833 1973.      ]\n",
      " [  11.050529   19.041723 2014.      ]\n",
      " [  17.255803   26.280297 1917.      ]]\n",
      "rows_labels:\n",
      " [2. 1. 2. 0.]\n"
     ]
    }
   ],
   "source": [
    "# row 3 -> nych_X[3,:] row 6 -> nych_X[6,:]\n",
    "print(\"rows_features:\\n\", nych_X[3:7])\n",
    "print(\"rows_labels:\\n\",nych_y[3:7])"
   ]
  },
  {
   "cell_type": "markdown",
   "id": "94957e00",
   "metadata": {
    "id": "b795047e"
   },
   "source": [
    "### Problem 1.2 (5 points): Feature Statistics\n",
    "\n",
    "Let's compute some statistics about our features. You are allowed to use `numpy` to help you with this problem -- for example, you might find some of the `numpy` functions listed [here](https://numpy.org/doc/stable/reference/routines.statistics.html) or [here](https://numpy.org/doc/stable/reference/routines.math.html) useful.\n",
    "\n",
    "- Compute the mean, variance, and standard deviation of each feature.\n",
    "- Compute the minimum and maximum value for each feature.\n",
    "\n",
    "Make sure to print out each of these values, and indicate clearly which value corresponds to which computation."
   ]
  },
  {
   "cell_type": "markdown",
   "id": "ff035d84-1a9a-4823-a51d-381831fa5bb8",
   "metadata": {
    "executionInfo": {
     "elapsed": 9,
     "status": "ok",
     "timestamp": 1674243574815,
     "user": {
      "displayName": "Yibo Yang",
      "userId": "07752505606306986753"
     },
     "user_tz": 480
    },
    "id": "db6c481c"
   },
   "source": [
    "<font color=blue> 1) the mean, variance, and standard deviation of each feature are shown below. </font>"
   ]
  },
  {
   "cell_type": "code",
   "execution_count": 104,
   "id": "4816cce9-185b-40ee-a039-7c34db0f5e7c",
   "metadata": {},
   "outputs": [
    {
     "name": "stdout",
     "output_type": "stream",
     "text": [
      "mean value: [  14.11839247   21.90711615 1946.35333333]\n",
      "variance value: [   6.60022492    8.87193012 1253.08182222]\n",
      "standard deviation value: [ 2.56909029  2.97857854 35.39889578]\n"
     ]
    }
   ],
   "source": [
    "# calculte the mean\n",
    "mean_x = np.mean(nych_X, 0)\n",
    "print(\"mean value:\", mean_x)\n",
    "\n",
    "# calculate the variance\n",
    "var_x = np.var(nych_X, 0)\n",
    "print(\"variance value:\", var_x)\n",
    "\n",
    "# calcualte the standard deviation\n",
    "std_x = np.std(nych_X, 0)\n",
    "print(\"standard deviation value:\", std_x)"
   ]
  },
  {
   "cell_type": "markdown",
   "id": "92b7341e",
   "metadata": {},
   "source": [
    "### Problem 1.3 (5 points): Logical Indexing\n",
    "\n",
    "Use numpy's logical (boolean) indexing to extract only those data corresponding to $y=0$ (Manhattan). Then, compute the mean and standard deviation of *only these* data points.\n",
    "Then, do the same for $y=1$ (Bronx).\n",
    "\n",
    "Again, print out each of these vectors and indicate clearly which value corresponds to which computation."
   ]
  },
  {
   "cell_type": "markdown",
   "id": "66b4655e-d971-4609-8a25-cf5bd256e550",
   "metadata": {},
   "source": [
    "<font color=blue> 1) the mean and standard deviation of Manhattan features (y=0) are shown below. </font>"
   ]
  },
  {
   "cell_type": "code",
   "execution_count": 120,
   "id": "89ab405f-3896-458b-b862-494ce56ee9d1",
   "metadata": {},
   "outputs": [
    {
     "name": "stdout",
     "output_type": "stream",
     "text": [
      "mean value of Manhattan features (y=0): 656.05383531\n",
      "standard deviation value of Manhattan features (y=0): 898.8082244444478\n"
     ]
    }
   ],
   "source": [
    "# mean value of Manhattan features (y=0)\n",
    "print(\"mean value of Manhattan features (y=0):\", np.mean(nych_X[nych_y==0]))\n",
    "\n",
    "# standard deviation value of Manhattan features (y=0)\n",
    "print(\"standard deviation value of Manhattan features (y=0):\", np.std(nych_X[nych_y==0]))"
   ]
  },
  {
   "cell_type": "markdown",
   "id": "ee478379-3f66-4173-b1ae-a628e935b21d",
   "metadata": {},
   "source": [
    "<font color=blue> 2) the mean and standard deviation of Bronx features (y=1) are shown below. </font>"
   ]
  },
  {
   "cell_type": "code",
   "execution_count": 122,
   "id": "2cfd232d-3861-4769-a81c-f792569f6f6a",
   "metadata": {},
   "outputs": [
    {
     "name": "stdout",
     "output_type": "stream",
     "text": [
      "mean value of Manhattan features (y=1): 657.1143554033333\n",
      "standard deviation value of Manhattan features (y=1): 903.9096270337484\n"
     ]
    }
   ],
   "source": [
    "# mean value of Manhattan features (y=1)\n",
    "print(\"mean value of Manhattan features (y=1):\", np.mean(nych_X[nych_y==1]))\n",
    "\n",
    "# standard deviation value of Manhattan features (y=1)\n",
    "print(\"standard deviation value of Manhattan features (y=1):\", np.std(nych_X[nych_y==1]))"
   ]
  },
  {
   "cell_type": "markdown",
   "id": "5eff3704",
   "metadata": {
    "id": "3baf771d"
   },
   "source": [
    "### Problem 1.4 (5 points):  Feature Histograms\n",
    "\n",
    "Now, you will visualize the distribution of each feature with histograms.  Use `matplotlib.pyplot` to do this, which is already imported for you as `plt`. Do not use any other plotting libraries, such as `pandas` or `seaborn`.\n",
    "\n",
    "- For every feature in `nych_X`, plot a histogram of the values of the feature. Your plot should consist of a grid of subplots with 1 row and 3 columns.\n",
    "- Include a title above each subplot to indicate which feature we are plotting. For example, you can call the first feature \"Feature 0\", the second feature \"Feature 1\", etc.\n",
    "\n",
    "Some starter code is provided for you below. (Hint: `axes[0].hist(...)` will create a histogram in the first subplot.)"
   ]
  },
  {
   "cell_type": "code",
   "execution_count": 4,
   "id": "ab4ed32f",
   "metadata": {
    "colab": {
     "base_uri": "https://localhost:8080/",
     "height": 225
    },
    "executionInfo": {
     "elapsed": 2100,
     "status": "ok",
     "timestamp": 1674243576907,
     "user": {
      "displayName": "Yibo Yang",
      "userId": "07752505606306986753"
     },
     "user_tz": 480
    },
    "id": "c63bb5af",
    "outputId": "477eaad8-4da6-4ff6-f547-9bb98698ad21"
   },
   "outputs": [
    {
     "data": {
      "image/png": "[encoded data removed]",
      "text/plain": [
       "<Figure size 864x216 with 3 Axes>"
      ]
     },
     "metadata": {
      "needs_background": "light"
     },
     "output_type": "display_data"
    }
   ],
   "source": [
    "# Create a figure with 1 row and 3 columns\n",
    "fig, axes = plt.subplots(1, 3, figsize=(12, 3))  \n",
    "\n",
    "### YOUR CODE STARTS HERE ###\n",
    "\n",
    "\n",
    "\n",
    "\n",
    "###  YOUR CODE ENDS HERE  ###\n",
    "\n",
    "fig.tight_layout()"
   ]
  },
  {
   "cell_type": "markdown",
   "id": "4245b035",
   "metadata": {
    "id": "e5beafc3"
   },
   "source": [
    "### Problem 1.5 (5 points): Feature Scatter Plots\n",
    "\n",
    "To help further visualize the NYC-Housing datset, you will now create several scatter plots of the features. Use `matplotlib.pyplot` to do this, which is already imported for you as `plt`. Do not use any other plotting libraries, such as `pandas` or `seaborn`.\n",
    "\n",
    "- For every pair of features in `nych_X`, plot a scatter plot of the feature values, colored according to their labels. For example, plot all data points with $y=0$ as blue, $y=1$ as green, etc. Your plot should be a grid of subplots with 3 rows and 3 columns, with the plot in position $(i,j)$ showing feature $x_i$ versus $x_j$, with the class labels indicated by color. (Hint: `axes[0, 0].scatter(...)` will create a scatter plot in the first column and first row).\n",
    "- Include an x-label and a y-label on each subplot to indicate which features we are plotting.  For example, you can call the first feature \"Feature 0\", the second feature \"Feature 1\", etc. (Hint: `axes[0, 0].set_xlabel(...)` might help you with the first subplot.) \n",
    "\n",
    "Some starter code is provided for you below."
   ]
  },
  {
   "cell_type": "code",
   "execution_count": 5,
   "id": "6ca71a34",
   "metadata": {
    "colab": {
     "base_uri": "https://localhost:8080/",
     "height": 585
    },
    "executionInfo": {
     "elapsed": 1125,
     "status": "ok",
     "timestamp": 1674243578026,
     "user": {
      "displayName": "Yibo Yang",
      "userId": "07752505606306986753"
     },
     "user_tz": 480
    },
    "id": "361b5478",
    "outputId": "54b1ebf3-ccb7-4a6d-85a7-512d094693b2"
   },
   "outputs": [
    {
     "data": {
      "image/png": "[encoded data removed]",
      "text/plain": [
       "<Figure size 576x576 with 9 Axes>"
      ]
     },
     "metadata": {
      "needs_background": "light"
     },
     "output_type": "display_data"
    }
   ],
   "source": [
    "# Create a figure with 3 rows and 3 columns\n",
    "fig, axes = plt.subplots(3, 3, figsize=(8, 8))  \n",
    "\n",
    "### YOUR CODE STARTS HERE ###\n",
    "\n",
    "\n",
    "\n",
    "\n",
    "\n",
    "###  YOUR CODE ENDS HERE  ###\n",
    "\n",
    "fig.tight_layout()"
   ]
  },
  {
   "cell_type": "markdown",
   "id": "07a20d18",
   "metadata": {},
   "source": [
    "<div>\n",
    "    <img src=\"data:image/svg+xml,%3C%3Fxml%20version%3D%221.0%22%20encoding%3D%22UTF-8%22%20standalone%3D%22no%22%3F%3E%0A%3C%21DOCTYPE%20svg%20PUBLIC%20%22-//W3C//DTD%20SVG%201.1//EN%22%20%22http%3A//www.w3.org/Graphics/SVG/1.1/DTD/svg11.dtd%22%3E%0A%3Csvg%20stroke-miterlimit%3D%2210%22%20style%3D%22fill-rule%3Anonzero%3Bclip-rule%3Aevenodd%3Bstroke-linecap%3Around%3Bstroke-linejoin%3Around%3B%22%20version%3D%221.1%22%20viewBox%3D%220%200%20288%2072%22%20xml%3Aspace%3D%22preserve%22%20xmlns%3D%22http%3A//www.w3.org/2000/svg%22%20xmlns%3Axlink%3D%22http%3A//www.w3.org/1999/xlink%22%3E%0A%3Cdefs/%3E%0A%3Cg%20id%3D%22Layer-1%22%3E%0A%3Cpath%20d%3D%22M34.042%2035.8741C45.8469%2023.244%2031.1794%2022.6473%2024.2857%2024.1167C17.3921%2025.5861-0.960215%2033.2987%206.07817%2043.4256C13.1166%2053.5525%2023.0237%2056.9377%2052.2446%2053.4091C81.4656%2049.8804%2097.2436%2032.811%20122.962%2029.3111C148.681%2025.8112%20155.118%2039.4093%20155.118%2039.4093%22%20fill%3D%22none%22%20opacity%3D%221%22%20stroke%3D%22%23000000%22%20stroke-linecap%3D%22butt%22%20stroke-linejoin%3D%22round%22%20stroke-width%3D%223%22/%3E%0A%3Cpath%20d%3D%22M254.053%2040.6889C242.328%2053.1071%20256.999%2053.6247%20263.883%2052.1549C270.768%2050.685%20289.071%2043.0512%20281.969%2033.1691C274.868%2023.287%20264.94%2020.0179%20235.741%2023.6051C206.543%2027.1922%20190.872%2043.9744%20165.176%2047.5176C139.48%2051.0607%20132.957%2037.7776%20132.957%2037.7776%22%20fill%3D%22none%22%20opacity%3D%221%22%20stroke%3D%22%23000000%22%20stroke-linecap%3D%22butt%22%20stroke-linejoin%3D%22round%22%20stroke-width%3D%223%22/%3E%0A%3C/g%3E%0A%3C/svg%3E%0A\" width=\"200\"/>\n",
    "</div>\n",
    "\n",
    "---\n",
    "## Problem 2: Nearest Centroid Classifiers\n",
    "\n",
    "In this problem, you will implement a nearest centroid classifier and train it on the NYC data."
   ]
  },
  {
   "cell_type": "markdown",
   "id": "4e25488d",
   "metadata": {},
   "source": [
    "### Problem 2.1 (20 points): Implementing a Nearest Centroid Classifier\n",
    "\n",
    "In the code given below, we define the class `NearestCentroidClassifier` which has an unfinished implementation of a nearest centroid classifier. For this problem, you will complete this implementation. Your nearest centroid classifier will use the Euclidean distance, which is defined for two feature vectors $x$ and $x'$ as\n",
    "\n",
    "$$d_E(x, x') = \\sqrt{\\sum_{j=1}^d (x_{j} - x'_{j})^2}. $$\n",
    "\n",
    "- Implement the method `fit`, which takes in an array of features `X` and an array of labels `y` and trains our classifier. You should store your computed centroids in the list `self.centroids`, and their $y$ values in `self.classes_` (whose name is chosen to match `sklearn` conventions).\n",
    "- Test your implementation of `fit` by training a `NearestCentroidClassifier` on the NYC data, and printing out the list of centroids. (These should match the means in Problem 1.3.)\n",
    "- Implement the method `predict`, which takes in an array of feature vectors `X` and predicts their class labels based on the centroids you computed in the method `fit`.\n",
    "- Print the predicted labels (using your `predict` function) and the true labels for the first ten data points in the NYCH dataset. Make sure to indicate which are the predicted labels and which are the true labels.\n",
    "\n",
    "You are allowed to modify the given code as necessary to complete the problem, e.g. you may create helper functions. "
   ]
  },
  {
   "cell_type": "code",
   "execution_count": 6,
   "id": "3c05c129",
   "metadata": {},
   "outputs": [],
   "source": [
    "class NearestCentroidClassifier:\n",
    "    def __init__(self):\n",
    "        # A list containing the centroids; to be filled in with the fit method.\n",
    "        self.centroids = []\n",
    "                \n",
    "    def fit(self, X, y):\n",
    "        \"\"\" Fits the nearest centroid classifier with training features X and training labels y.\n",
    "        \n",
    "        X: array of training features; shape (m,n), where m is the number of datapoints,\n",
    "            and n is the number of features.\n",
    "        y: array training labels; shape (m, ), where m is the number of datapoints.\n",
    "        \n",
    "        \"\"\"\n",
    "        # First, identify what possible classes exist in the training data set:\n",
    "        self.classes_ = np.unique(y)\n",
    "        \n",
    "        ### YOUR CODE STARTS HERE ###\n",
    "        # Hint: you should append to self.centroids with the corresponding centroid for each class.\n",
    "        # The centroid (mean vector) can be computed in a similar way to P2.2, for example.\n",
    "\n",
    "\n",
    "\n",
    "        ###  YOUR CODE ENDS HERE  ###\n",
    "        \n",
    "                    \n",
    "    def predict(self, X):\n",
    "        \"\"\" Makes predictions with the nearest centroid classifier on the features in X.\n",
    "        \n",
    "        X: array of features; shape (m,n), where m is the number of datapoints,\n",
    "            and n is the number of features.\n",
    "        \n",
    "        Returns:\n",
    "        y_pred: a numpy array of predicted labels; shape (m, ), where m is the number of datapoints.\n",
    "        \"\"\"\n",
    "        ### YOUR CODE STARTS HERE ###\n",
    "        # Hint: find the distance from each x[i] to the centroids, and predict the closest.\n",
    "\n",
    "\n",
    "\n",
    "        ###  YOUR CODE ENDS HERE  ###\n",
    "        \n",
    "        return y_pred\n"
   ]
  },
  {
   "cell_type": "markdown",
   "id": "8fbeec78",
   "metadata": {},
   "source": [
    "Here is some code illustrating how to use your `NearestCentroidClassifier`. You can run this code to fit your classifier and to plot the centroids. You should write your implementation above such that you don't need to modify the code in the next cell.  As a sanity check, you should find that the 3rd centroid (for Staten Island) has a \"year build\" coordinate value of around 1976.8 (i.e., the rightmost column)."
   ]
  },
  {
   "cell_type": "code",
   "execution_count": 7,
   "id": "e5a56587",
   "metadata": {},
   "outputs": [
    {
     "name": "stdout",
     "output_type": "stream",
     "text": [
      "[]\n"
     ]
    }
   ],
   "source": [
    "nc_classifier = NearestCentroidClassifier()  # Create a NearestCentroidClassifier object\n",
    "nc_classifier.fit(nych_X, nych_y)            # Fit to the NYC training data\n",
    "\n",
    "print(nc_classifier.centroids)"
   ]
  },
  {
   "cell_type": "code",
   "execution_count": 8,
   "id": "eb89a408",
   "metadata": {},
   "outputs": [],
   "source": [
    "# Print the predicted and true labels for the first ten data points in the NYCH testing set\n",
    "### YOUR CODE STARTS HERE ###\n",
    "\n",
    "\n",
    "\n",
    "\n",
    "\n",
    "###  YOUR CODE ENDS HERE  ###"
   ]
  },
  {
   "cell_type": "markdown",
   "id": "e15e02ca",
   "metadata": {},
   "source": [
    "### Problem 2.2 (15 points): Evaluating the Nearest Centroids Classifier\n",
    "\n",
    "Now that you've implemented the nearest centroid classifier, it is time to evaluate its performance.\n",
    "\n",
    "- Write a function `compute_error_rate` that computes the error rate (fraction of misclassifications) of a model's predictions. That is, your function should take in an array of true labels y and an array of predicted labels `y_pred`, and return the error rate of the predictions. You may use `numpy` to help you do this, but do not use `sklearn` or any other machine learning libraries.\n",
    "- Write a function `compute_confusion_matrix` that computes the confusion matrix of a model's predictions. That is, your function should  take in an array of true labels `y`and an array of predicted labels `y_pred`, and return the corresponding $C \\times C$ confusion matrix as a numpy array, where $C$ is the number of classes. You may use `numpy` to help you do this, but do not use `sklearn` or any other machine learning libraries.\n",
    "- Verify that your implementations of `NearestCentroidClassifier`, `compute_error_rate`, and `compute_confusion_matrix` are correct. To help you do this, you are given the functions `eval_sklearn_implementation` and `eval_my_implementation`. The function `eval_sklearn_implementation` will use the relevant `sklearn` implementations to compute the error rate and confusion matrix of a nearest centroid classifier. The function `eval_my_implementation` will do the same, but using your implementations. If your code is correct, the outputs of the two functions should be the same."
   ]
  },
  {
   "cell_type": "code",
   "execution_count": 9,
   "id": "64313fd2",
   "metadata": {},
   "outputs": [],
   "source": [
    "def compute_error_rate(y, y_pred):\n",
    "    \"\"\" Computes the error rate of an array of predictions.\n",
    "    \n",
    "    y: true labels; shape (n, ), where n is the number of datapoints.\n",
    "    y_pred: predicted labels; shape (n, ), where n is the number of datapoints.\n",
    "    \n",
    "    Returns:\n",
    "    error rate: the error rate of y_pred compared to y; scalar expressed as a decimal (e.g. 0.5)\n",
    "    \"\"\"\n",
    "    ### YOUR CODE STARTS HERE ###\n",
    "\n",
    "\n",
    "\n",
    "\n",
    "\n",
    "    ###  YOUR CODE ENDS HERE  ###\n",
    "    \n",
    "    return error_rate\n"
   ]
  },
  {
   "cell_type": "code",
   "execution_count": 10,
   "id": "4d4d179a",
   "metadata": {},
   "outputs": [],
   "source": [
    "def compute_confusion_matrix(y, y_pred):\n",
    "    \"\"\" Computes the confusion matrix of an array of predictions.\n",
    "    \n",
    "    y: true labels; shape (n, ), where n is the number of datapoints.\n",
    "    y_pred: predicted labels; shape (n, ), where n is the number of datapoints.\n",
    "    \n",
    "    Returns:\n",
    "    confusion_matrix: a numpy array corresponding to the confusion matrix from y and y_pred; shape (C, C), \n",
    "        where C is the number of unique classes.  The (i,j)th entry is the number of examples of class i\n",
    "        that are classified as being from class j.\n",
    "    \"\"\"\n",
    "    \n",
    "    ### YOUR CODE STARTS HERE ###\n",
    "\n",
    "\n",
    "\n",
    "\n",
    "\n",
    "    ###  YOUR CODE ENDS HERE  ###\n",
    "    \n",
    "    return confusion_matrix\n",
    "    "
   ]
  },
  {
   "cell_type": "markdown",
   "id": "e452a727",
   "metadata": {},
   "source": [
    "You can run the two code cells below to compare your answers to the implementations in `sklearn`. If your answers are correct, the outputs of these two functions should be the same. Do not modify the functions `eval_sklearn_implementation` and `eval_my_implementation`, but make sure that you read and understand this code."
   ]
  },
  {
   "cell_type": "code",
   "execution_count": 11,
   "id": "2eee68bf",
   "metadata": {},
   "outputs": [
    {
     "name": "stdout",
     "output_type": "stream",
     "text": [
      "Sklearn Results:\n",
      "--- Error Rate (0/1): 0.3933333333333333\n"
     ]
    },
    {
     "data": {
      "image/png": "[encoded data removed]",
      "text/plain": [
       "<Figure size 432x288 with 2 Axes>"
      ]
     },
     "metadata": {
      "needs_background": "light"
     },
     "output_type": "display_data"
    }
   ],
   "source": [
    "###############################################\n",
    "### Results with the sklearn implementation ###\n",
    "###############################################\n",
    "\n",
    "def eval_sklearn_implementation(X, y):\n",
    "    # Nearest centroid classifier implemented in sklearn\n",
    "    sklearn_nearest_centroid = NearestCentroid()\n",
    "\n",
    "    # Fit on training dataset\n",
    "    sklearn_nearest_centroid.fit(X, y)\n",
    "\n",
    "    # Make predictions on training and testing data\n",
    "    sklearn_y_pred = sklearn_nearest_centroid.predict(X)\n",
    "\n",
    "    # Evaluate accuracies using the sklearn function accuracy_score\n",
    "    sklearn_err = zero_one_loss(y, sklearn_y_pred)\n",
    "\n",
    "    print(f'Sklearn Results:')\n",
    "    print(f'--- Error Rate (0/1): {sklearn_err}')\n",
    "\n",
    "    # Evaluate confusion matrix using the sklearn function confusion_matrix\n",
    "    sklearn_cm = confusion_matrix(y, sklearn_y_pred)\n",
    "    sklearn_disp = ConfusionMatrixDisplay(confusion_matrix = sklearn_cm)\n",
    "    sklearn_disp.plot();\n",
    "    \n",
    "    \n",
    "# Call the function    \n",
    "eval_sklearn_implementation(nych_X, nych_y)"
   ]
  },
  {
   "cell_type": "code",
   "execution_count": null,
   "id": "047d20d5",
   "metadata": {},
   "outputs": [],
   "source": [
    "#########################################\n",
    "### Results with your implementation ###\n",
    "#########################################\n",
    "\n",
    "def eval_my_implementation(X, y):\n",
    "    # Now test your implementation of NearestCentroidClassifier\n",
    "    nearest_centroid = NearestCentroidClassifier()\n",
    "\n",
    "    # Fit on training dataset\n",
    "    nearest_centroid.fit(X, y)\n",
    "\n",
    "    # Make predictions on training and testing data\n",
    "    y_pred = nearest_centroid.predict(X)\n",
    "\n",
    "    # Evaluate accuracies using your function compute_accuracy\n",
    "    err = zero_one_loss(y, y_pred)\n",
    "\n",
    "    print(f'Your Results:')\n",
    "    print(f'--- Error Rate (0/1): {err}')\n",
    "\n",
    "    # Evaluate confusion matrix using your function compute_confusion_matrix\n",
    "    cm = compute_confusion_matrix(y, y_pred)\n",
    "    disp = ConfusionMatrixDisplay(confusion_matrix = cm)\n",
    "    disp.plot();\n",
    "    \n",
    "\n",
    "# Call the function\n",
    "eval_my_implementation(nych_X, nych_y)"
   ]
  },
  {
   "cell_type": "markdown",
   "id": "66b9409c",
   "metadata": {},
   "source": [
    "<div>\n",
    "    <img src=\"data:image/svg+xml,%3C%3Fxml%20version%3D%221.0%22%20encoding%3D%22UTF-8%22%20standalone%3D%22no%22%3F%3E%0A%3C%21DOCTYPE%20svg%20PUBLIC%20%22-//W3C//DTD%20SVG%201.1//EN%22%20%22http%3A//www.w3.org/Graphics/SVG/1.1/DTD/svg11.dtd%22%3E%0A%3Csvg%20stroke-miterlimit%3D%2210%22%20style%3D%22fill-rule%3Anonzero%3Bclip-rule%3Aevenodd%3Bstroke-linecap%3Around%3Bstroke-linejoin%3Around%3B%22%20version%3D%221.1%22%20viewBox%3D%220%200%20288%2072%22%20xml%3Aspace%3D%22preserve%22%20xmlns%3D%22http%3A//www.w3.org/2000/svg%22%20xmlns%3Axlink%3D%22http%3A//www.w3.org/1999/xlink%22%3E%0A%3Cdefs/%3E%0A%3Cg%20id%3D%22Layer-1%22%3E%0A%3Cpath%20d%3D%22M34.042%2035.8741C45.8469%2023.244%2031.1794%2022.6473%2024.2857%2024.1167C17.3921%2025.5861-0.960215%2033.2987%206.07817%2043.4256C13.1166%2053.5525%2023.0237%2056.9377%2052.2446%2053.4091C81.4656%2049.8804%2097.2436%2032.811%20122.962%2029.3111C148.681%2025.8112%20155.118%2039.4093%20155.118%2039.4093%22%20fill%3D%22none%22%20opacity%3D%221%22%20stroke%3D%22%23000000%22%20stroke-linecap%3D%22butt%22%20stroke-linejoin%3D%22round%22%20stroke-width%3D%223%22/%3E%0A%3Cpath%20d%3D%22M254.053%2040.6889C242.328%2053.1071%20256.999%2053.6247%20263.883%2052.1549C270.768%2050.685%20289.071%2043.0512%20281.969%2033.1691C274.868%2023.287%20264.94%2020.0179%20235.741%2023.6051C206.543%2027.1922%20190.872%2043.9744%20165.176%2047.5176C139.48%2051.0607%20132.957%2037.7776%20132.957%2037.7776%22%20fill%3D%22none%22%20opacity%3D%221%22%20stroke%3D%22%23000000%22%20stroke-linecap%3D%22butt%22%20stroke-linejoin%3D%22round%22%20stroke-width%3D%223%22/%3E%0A%3C/g%3E%0A%3C/svg%3E%0A\" width=\"200\"/>\n",
    "</div>\n",
    "\n",
    "---\n",
    "## Problem 3: Decision Boundaries\n",
    "\n",
    "For the final problem of this homework, you will visualize the decision function and decision boundary of your nearest centroid classifier on 2D data, and compare it to the similar but more flexible Gaussian Bayes classifier discussed in class.  Code for drawing the decision function (which simply evaluates the prediction on a grid) and superimposing the data points is provided.\n",
    "\n",
    "\n",
    "### Problem 3.1 (5 points): Visualize 2D Centroid Classifier\n",
    "We will use only the first two features of the NYCH data set, to facilitate visualization."
   ]
  },
  {
   "cell_type": "code",
   "execution_count": null,
   "id": "fa1bc076",
   "metadata": {},
   "outputs": [],
   "source": [
    "# Plot the decision boundary for your classifier\n",
    "\n",
    "# Some keyword arguments for making nice looking plots.\n",
    "plot_kwargs = {'cmap': 'jet',     # another option: viridis\n",
    "               'response_method': 'predict',\n",
    "               'plot_method': 'pcolormesh',\n",
    "               'shading': 'auto',\n",
    "               'alpha': 0.5,\n",
    "               'grid_resolution': 100}\n",
    "\n",
    "figure, axes = plt.subplots(1, 1, figsize=(4,4))\n",
    "\n",
    "learner = NearestCentroidClassifier() \n",
    "\n",
    "### YOUR CODE STARTS HERE ###\n",
    "\n",
    "nych_X2 =      # get just the first two features of X\n",
    "learner.fit(   # Fit \"learner\" to nych 2-feature data\n",
    "\n",
    "###  YOUR CODE ENDS HERE  ###\n",
    "\n",
    "DecisionBoundaryDisplay.from_estimator(learner, nych_X2, ax=axes, **plot_kwargs)\n",
    "axes.scatter(nych_X2[:, 0], nych_X2[:, 1], c=nych_y, edgecolor=None, s=12)\n",
    "axes.set_title(f'Nearest Centroid Classifier');"
   ]
  },
  {
   "cell_type": "markdown",
   "id": "5c6cff25",
   "metadata": {},
   "source": [
    "### Problem 3.2 (5 points): Visualize a 2D Gaussian Bayes Classifier\n",
    "\n",
    "In class, we discussed building a Bayes classifier using an estimate of the class-conditional probabilities $p(X|Y=y)$, for example, a Gaussian distribution.  It turns out this is relatively easy to implement and fairly similar to your Nearest Centroid classifier (in fact, Nearest Centroid is a special case of this model).\n",
    "\n",
    "An implementation of a Gaussian Bayes classifier is provided:"
   ]
  },
  {
   "cell_type": "code",
   "execution_count": null,
   "id": "9a1bdfcd",
   "metadata": {},
   "outputs": [],
   "source": [
    "class GaussianBayesClassifier:\n",
    "    def __init__(self):\n",
    "        \"\"\"Initialize the Gaussian Bayes Classifier\"\"\"\n",
    "        self.pY   = []         # class prior probabilities, p(Y=c)\n",
    "        self.pXgY = []         # class-conditional probabilities, p(X|Y=c)\n",
    "        self.classes_ = []     # list of possible class values\n",
    "                \n",
    "    def fit(self, X, y):\n",
    "        \"\"\" Fits a Gaussian Bayes classifier with training features X and training labels y.\n",
    "            X, y : (m,n) and (m,) arrays of training features and target class values\n",
    "        \"\"\"\n",
    "        from sklearn.mixture import GaussianMixture\n",
    "        self.classes_ = np.unique(y)         # Identify the class labels; then\n",
    "        for c in self.classes_:              # for each class:\n",
    "            self.pY.append(np.mean(y==c))    #   estimate p(Y=c) (a float)\n",
    "            model_c = GaussianMixture(1)     #\n",
    "            model_c.fit(X[y==c,:])           #   and a Gaussian for p(X|Y=c)\n",
    "            self.pXgY.append(model_c)        # \n",
    "                    \n",
    "    def predict(self, X):\n",
    "        \"\"\" Makes predictions with the nearest centroid classifier on the features in X.\n",
    "            X : (m,n) array of features for prediction\n",
    "            Returns: y : (m,) numpy array of predicted labels\n",
    "        \"\"\"\n",
    "        pXY = np.stack(tuple(np.exp(p.score_samples(X)) for p in self.pXgY)).T\n",
    "        pXY *= np.array(self.pY).reshape(1,-1)         # evaluate p(X=x|Y=c) * p(Y=c)\n",
    "        pYgX = pXY/pXY.sum(1,keepdims=True)            # normalize to p(Y=c|X=x) (not required)\n",
    "        return self.classes_[np.argmax(pYgX, axis=1)]  # find the max index & return its class ID"
   ]
  },
  {
   "cell_type": "markdown",
   "id": "fbbadb44",
   "metadata": {},
   "source": [
    "Using this learner, evaluate the predictions and error rate on the training data, and plot the decision boundary.  The code should be the same as your Nearest Centroid, but using the new learner object."
   ]
  },
  {
   "cell_type": "code",
   "execution_count": null,
   "id": "06385297",
   "metadata": {},
   "outputs": [],
   "source": [
    "# Plot the decision boundary for your classifier\n",
    "\n",
    "# Some keyword arguments for making nice looking plots.\n",
    "plot_kwargs = {'cmap': 'jet',     # another option: viridis\n",
    "               'response_method': 'predict',\n",
    "               'plot_method': 'pcolormesh',\n",
    "               'shading': 'auto',\n",
    "               'alpha': 0.5,\n",
    "               'grid_resolution': 100}\n",
    "\n",
    "figure, axes = plt.subplots(1, 1, figsize=(4,4))\n",
    "\n",
    "learner = GaussianBayesClassifier() \n",
    "\n",
    "### YOUR CODE STARTS HERE ###\n",
    "\n",
    "nych_X2 =  # get just the first two features of X\n",
    "learner.fit(   # Fit \"learner\" to nych 2-feature data\n",
    "\n",
    "gbc_y_pred = learner.predict( # Use \"learner\" to predict on same data used in training\n",
    "    \n",
    "###  YOUR CODE ENDS HERE  ###\n",
    "\n",
    "err = zero_one_loss(nych_y, gbc_y_pred)\n",
    "print(f'Gaussian Bayes Error Rate (0/1): {err}')\n",
    "\n",
    "DecisionBoundaryDisplay.from_estimator(learner, nych_X2, ax=axes, **plot_kwargs)\n",
    "axes.scatter(nych_X2[:, 0], nych_X2[:, 1], c=nych_y, edgecolor=None, s=12)\n",
    "axes.set_title(f'Gaussian Bayes Classifier');"
   ]
  },
  {
   "cell_type": "markdown",
   "id": "c7411a27",
   "metadata": {},
   "source": [
    "### Problem 3.3 (5 points): Analysis\n",
    "Did the error increase or decrease? Why do you think this is?"
   ]
  },
  {
   "cell_type": "code",
   "execution_count": null,
   "id": "840e8fd7",
   "metadata": {},
   "outputs": [],
   "source": []
  },
  {
   "cell_type": "markdown",
   "id": "8c3fbb12",
   "metadata": {},
   "source": [
    "<div>\n",
    "    <img src=\"data:image/svg+xml,%3C%3Fxml%20version%3D%221.0%22%20encoding%3D%22UTF-8%22%20standalone%3D%22no%22%3F%3E%0A%3C%21DOCTYPE%20svg%20PUBLIC%20%22-//W3C//DTD%20SVG%201.1//EN%22%20%22http%3A//www.w3.org/Graphics/SVG/1.1/DTD/svg11.dtd%22%3E%0A%3Csvg%20stroke-miterlimit%3D%2210%22%20style%3D%22fill-rule%3Anonzero%3Bclip-rule%3Aevenodd%3Bstroke-linecap%3Around%3Bstroke-linejoin%3Around%3B%22%20version%3D%221.1%22%20viewBox%3D%220%200%20288%2072%22%20xml%3Aspace%3D%22preserve%22%20xmlns%3D%22http%3A//www.w3.org/2000/svg%22%20xmlns%3Axlink%3D%22http%3A//www.w3.org/1999/xlink%22%3E%0A%3Cdefs/%3E%0A%3Cg%20id%3D%22Layer-1%22%3E%0A%3Cpath%20d%3D%22M34.042%2035.8741C45.8469%2023.244%2031.1794%2022.6473%2024.2857%2024.1167C17.3921%2025.5861-0.960215%2033.2987%206.07817%2043.4256C13.1166%2053.5525%2023.0237%2056.9377%2052.2446%2053.4091C81.4656%2049.8804%2097.2436%2032.811%20122.962%2029.3111C148.681%2025.8112%20155.118%2039.4093%20155.118%2039.4093%22%20fill%3D%22none%22%20opacity%3D%221%22%20stroke%3D%22%23000000%22%20stroke-linecap%3D%22butt%22%20stroke-linejoin%3D%22round%22%20stroke-width%3D%223%22/%3E%0A%3Cpath%20d%3D%22M254.053%2040.6889C242.328%2053.1071%20256.999%2053.6247%20263.883%2052.1549C270.768%2050.685%20289.071%2043.0512%20281.969%2033.1691C274.868%2023.287%20264.94%2020.0179%20235.741%2023.6051C206.543%2027.1922%20190.872%2043.9744%20165.176%2047.5176C139.48%2051.0607%20132.957%2037.7776%20132.957%2037.7776%22%20fill%3D%22none%22%20opacity%3D%221%22%20stroke%3D%22%23000000%22%20stroke-linecap%3D%22butt%22%20stroke-linejoin%3D%22round%22%20stroke-width%3D%223%22/%3E%0A%3C/g%3E%0A%3C/svg%3E%0A\" width=\"200\"/>\n",
    "</div>\n",
    "\n",
    "## Problem 4: MNIST Data\n",
    "\n",
    "Next, let us apply our learners to a higher-dimensional data set, the MNIST dataset.  The MNIST dataset is an image dataset consisting of 70,000 hand-written digits (from 0 to 9), each of which is a 28x28 grayscale image. For each image, we also have a label, corresponding to which digit is written. Run the following code cell to load the MNIST dataset:"
   ]
  },
  {
   "cell_type": "code",
   "execution_count": null,
   "id": "2829b3cf",
   "metadata": {},
   "outputs": [],
   "source": [
    "# Load the features and labels for the MNIST dataset\n",
    "# This might take a minute to download the images.\n",
    "mnist_X, mnist_y = fetch_openml('mnist_784', as_frame=False, return_X_y=True, parser='auto')\n",
    "\n",
    "# Convert labels to integer data type\n",
    "mnist_y = mnist_y.astype(int)"
   ]
  },
  {
   "cell_type": "markdown",
   "id": "692c8e60",
   "metadata": {},
   "source": [
    "Each data point in the MNIST dataset is 768-dimensional, with each feature corresponding to a pixel intensity of a $28\\times 28$ scan of a digit.  To visualize a data point, we can re-shape the feature vector into the shape of the image, and then display it using `imshow`:"
   ]
  },
  {
   "cell_type": "code",
   "execution_count": null,
   "id": "43b08906",
   "metadata": {},
   "outputs": [],
   "source": [
    "plt.imshow( mnist_X[1,:].reshape(28,28) ,cmap='gray');"
   ]
  },
  {
   "cell_type": "markdown",
   "id": "61356004",
   "metadata": {},
   "source": [
    "### Problem 4.1 (5 points): Training on MNIST\n",
    "\n",
    "First, let us train a nearest centroid classifier on the MNIST data.  For this problem, we will go ahead and use the scikit-learn implementation, just so that it's not dependent on your earlier problem solution."
   ]
  },
  {
   "cell_type": "code",
   "execution_count": null,
   "id": "75b603f0",
   "metadata": {},
   "outputs": [],
   "source": [
    "mnist_nearest_centroid = NearestCentroid()\n",
    "\n",
    "\n",
    "### YOUR CODE STARTS HERE ###\n",
    "    \n",
    "# fit mnist_nearest_centroid to your mnist data\n",
    "    \n",
    "###  YOUR CODE ENDS HERE  ###"
   ]
  },
  {
   "cell_type": "markdown",
   "id": "4dd2b3c1",
   "metadata": {},
   "source": [
    "### Problem 4.2 (5 points): Visualizing the centroids\n",
    "\n",
    "If you look at the trained model with, say, ``dir(mnist_nearest_centroid)``, you will see that the centroids are stored in ``mnist_nearest_centroid.centroids_``.\n",
    "\n",
    "Each centroid is a vector in the same 28 x 28 vector space as the original images.  So, we can visualize the centroid in the same way that we visualized a data point.  Run through all ten centroids and draw them (suing ``imshow``):"
   ]
  },
  {
   "cell_type": "code",
   "execution_count": null,
   "id": "032e736e",
   "metadata": {},
   "outputs": [],
   "source": [
    "# Create a figure with 1 row and 3 columns\n",
    "fig, axes = plt.subplots(1, 10, figsize=(12, 3))  \n",
    "\n",
    "for i,c in enumerate(mnist_nearest_centroid.classes_):\n",
    "    pass\n",
    "    ### YOUR CODE STARTS HERE ###\n",
    "    \n",
    "    # display centroid for class c using axes[i].imshow()\n",
    "    \n",
    "    ###  YOUR CODE ENDS HERE  ###"
   ]
  },
  {
   "cell_type": "code",
   "execution_count": null,
   "id": "c324bf6e",
   "metadata": {},
   "outputs": [],
   "source": []
  },
  {
   "cell_type": "markdown",
   "id": "f5d9721d",
   "metadata": {},
   "source": [
    "### Problem 4.3 (10 points): MINST Error Rate and Confusion Matrix\n",
    "\n",
    "Now, use ``scikit``'s functions to compute the error rate of your nearest centroid classifier, and also the confusion matrix."
   ]
  },
  {
   "cell_type": "code",
   "execution_count": null,
   "id": "439385e3",
   "metadata": {},
   "outputs": [],
   "source": [
    "### YOUR CODE STARTS HERE ###\n",
    "    \n",
    "    \n",
    "###  YOUR CODE ENDS HERE  ###"
   ]
  },
  {
   "cell_type": "markdown",
   "id": "d616c5fd",
   "metadata": {},
   "source": [
    "What are some of the most common mistakes?  What are some uncommon mistakes?  Thinking about the data and problem, do these make sense?"
   ]
  },
  {
   "cell_type": "code",
   "execution_count": null,
   "id": "f68c510c",
   "metadata": {},
   "outputs": [],
   "source": []
  },
  {
   "cell_type": "markdown",
   "id": "db6110c6",
   "metadata": {
    "id": "1fd32b7e"
   },
   "source": [
    "<div>\n",
    "    <img src=\"data:image/svg+xml,%3C%3Fxml%20version%3D%221.0%22%20encoding%3D%22UTF-8%22%20standalone%3D%22no%22%3F%3E%0A%3C%21DOCTYPE%20svg%20PUBLIC%20%22-//W3C//DTD%20SVG%201.1//EN%22%20%22http%3A//www.w3.org/Graphics/SVG/1.1/DTD/svg11.dtd%22%3E%0A%3Csvg%20stroke-miterlimit%3D%2210%22%20style%3D%22fill-rule%3Anonzero%3Bclip-rule%3Aevenodd%3Bstroke-linecap%3Around%3Bstroke-linejoin%3Around%3B%22%20version%3D%221.1%22%20viewBox%3D%220%200%20288%2072%22%20xml%3Aspace%3D%22preserve%22%20xmlns%3D%22http%3A//www.w3.org/2000/svg%22%20xmlns%3Axlink%3D%22http%3A//www.w3.org/1999/xlink%22%3E%0A%3Cdefs/%3E%0A%3Cg%20id%3D%22Layer-1%22%3E%0A%3Cpath%20d%3D%22M34.042%2035.8741C45.8469%2023.244%2031.1794%2022.6473%2024.2857%2024.1167C17.3921%2025.5861-0.960215%2033.2987%206.07817%2043.4256C13.1166%2053.5525%2023.0237%2056.9377%2052.2446%2053.4091C81.4656%2049.8804%2097.2436%2032.811%20122.962%2029.3111C148.681%2025.8112%20155.118%2039.4093%20155.118%2039.4093%22%20fill%3D%22none%22%20opacity%3D%221%22%20stroke%3D%22%23000000%22%20stroke-linecap%3D%22butt%22%20stroke-linejoin%3D%22round%22%20stroke-width%3D%223%22/%3E%0A%3Cpath%20d%3D%22M254.053%2040.6889C242.328%2053.1071%20256.999%2053.6247%20263.883%2052.1549C270.768%2050.685%20289.071%2043.0512%20281.969%2033.1691C274.868%2023.287%20264.94%2020.0179%20235.741%2023.6051C206.543%2027.1922%20190.872%2043.9744%20165.176%2047.5176C139.48%2051.0607%20132.957%2037.7776%20132.957%2037.7776%22%20fill%3D%22none%22%20opacity%3D%221%22%20stroke%3D%22%23000000%22%20stroke-linecap%3D%22butt%22%20stroke-linejoin%3D%22round%22%20stroke-width%3D%223%22/%3E%0A%3C/g%3E%0A%3C/svg%3E%0A\" width=\"200\"/>\n",
    "</div>\n",
    "\n",
    "---\n",
    "### Statement of Collaboration (5 points)\n",
    "\n",
    "It is **mandatory** to include a Statement of Collaboration in each submission, with respect to the guidelines below. Include the names of everyone involved in the discussions (especially in-person ones), and what was discussed.\n",
    "\n",
    "All students are required to follow the academic honesty guidelines posted on the course website. For\n",
    "programming assignments, in particular, I encourage the students to organize (perhaps using EdD) to\n",
    "discuss the task descriptions, requirements, bugs in my code, and the relevant technical content before they start\n",
    "working on it. However, you should not discuss the specific solutions, and, as a guiding principle, you are not\n",
    "allowed to take anything written or drawn away from these discussions (i.e. no photographs of the blackboard,\n",
    "written notes, referring to EdD, etc.). Especially after you have started working on the assignment, try\n",
    "to restrict the discussion to EdD as much as possible, so that there is no doubt as to the extent of your\n",
    "collaboration."
   ]
  },
  {
   "cell_type": "code",
   "execution_count": null,
   "id": "234cdaad",
   "metadata": {
    "executionInfo": {
     "elapsed": 8,
     "status": "aborted",
     "timestamp": 1674243609167,
     "user": {
      "displayName": "Yibo Yang",
      "userId": "07752505606306986753"
     },
     "user_tz": 480
    },
    "id": "b4757c89"
   },
   "outputs": [],
   "source": []
  }
 ],
 "metadata": {
  "colab": {
   "provenance": []
  },
  "kernelspec": {
   "display_name": "Python 3 (ipykernel)",
   "language": "python",
   "name": "python3"
  },
  "language_info": {
   "codemirror_mode": {
    "name": "ipython",
    "version": 3
   },
   "file_extension": ".py",
   "mimetype": "text/x-python",
   "name": "python",
   "nbconvert_exporter": "python",
   "pygments_lexer": "ipython3",
   "version": "3.12.4"
  }
 },
 "nbformat": 4,
 "nbformat_minor": 5
}
